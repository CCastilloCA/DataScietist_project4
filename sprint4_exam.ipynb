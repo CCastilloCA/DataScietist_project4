{
 "cells": [
  {
   "cell_type": "markdown",
   "metadata": {},
   "source": [
    "# Hola Christian!\n",
    "\n",
    "Mi nombre es David Bautista, soy code reviewer de TripleTen y voy a revisar el proyecto que acabas de desarrollar.\n",
    "\n",
    "Cuando vea un error la primera vez, lo señalaré. Deberás encontrarlo y arreglarlo. La intención es que te prepares para un espacio real de trabajo. En un trabajo, el líder de tu equipo hará lo mismo. Si no puedes solucionar el error, te daré más información en la próxima ocasión.\n",
    "\n",
    "Encontrarás mis comentarios más abajo - **por favor, no los muevas, no los modifiques ni los borres.**\n",
    "\n",
    "¿Cómo lo voy a hacer? Voy a leer detenidamente cada una de las implementaciones que has llevado a cabo para cumplir con lo solicitado. Verás los comentarios de esta forma:\n",
    "\n",
    "\n",
    "<div class=\"alert alert-block alert-success\">\n",
    "<b>Comentario del revisor</b> <a class=\"tocSkip\"></a>\n",
    "    \n",
    "Si todo está perfecto.\n",
    "</div>\n",
    "\n",
    "\n",
    "<div class=\"alert alert-block alert-warning\">\n",
    "<b>Comentario del revisor</b> <a class=\"tocSkip\"></a>\n",
    "    \n",
    "Si tu código está bien pero se puede mejorar o hay algún detalle que le hace falta.\n",
    "</div>\n",
    "\n",
    "\n",
    "<div class=\"alert alert-block alert-danger\">\n",
    "    \n",
    "<b>Comentario del revisor</b> <a class=\"tocSkip\"></a>\n",
    "    \n",
    "    \n",
    "Si de pronto hace falta algo o existe algún problema con tu código o conclusiones.\n",
    "</div>\n",
    "\n",
    "\n",
    "Puedes responderme de esta forma: \n",
    "\n",
    "<div class=\"alert alert-block alert-info\">\n",
    "<b>Respuesta del estudiante</b> <a class=\"tocSkip\"></a>\n",
    "</div\n",
    "\n",
    "¡Empecemos!"
   ]
  },
  {
   "cell_type": "markdown",
   "metadata": {
    "id": "3rYiDeEH0q0f"
   },
   "source": [
    "# ¿Cuál es la mejor tarifa?\n",
    "\n",
    "Trabajas como analista para el operador de telecomunicaciones Megaline. La empresa ofrece a sus clientes dos tarifas de prepago, Surf y Ultimate. El departamento comercial quiere saber cuál de las tarifas genera más ingresos para poder ajustar el presupuesto de publicidad.\n",
    "\n",
    "Vas a realizar un análisis preliminar de las tarifas basado en una selección de clientes relativamente pequeña. Tendrás los datos de 500 clientes de Megaline: quiénes son los clientes, de dónde son, qué tarifa usan, así como la cantidad de llamadas que hicieron y los mensajes de texto que enviaron en 2018. Tu trabajo es analizar el comportamiento de los clientes y determinar qué tarifa de prepago genera más ingresos."
   ]
  },
  {
   "cell_type": "markdown",
   "metadata": {
    "id": "VNddPNRQ0q0w"
   },
   "source": [
    "   \n",
    "El propósito principal de este proyecto es analizar el comportamiento de los clientes de con el objetivo de determinar qué tarifa de prepago genera más ingresos para la empresa. Para lograr esto, se utilizará una muestra de 500 clientes, que incluye información sobre quiénes son, de dónde provienen, qué tarifa utilizan, así como la cantidad de llamadas y mensajes de texto que realizaron en el año 2018. El análisis se centrará en identificar patrones y tendencias en el uso de las tarifas por parte de los clientes, y se llevará a cabo una prueba de hipótesis para validar si existe una diferencia significativa en los ingresos generados por las dos tarifas principales. Este proyecto tiene como objetivo proporcionar a Megaline información clave para tomar decisiones estratégicas en cuanto a la promoción y comercialización de sus tarifas de prepago, lo que podría conducir a una mayor rentabilidad y satisfacción del cliente. \n",
    "\n",
    "En cuanto a las acciones que planeo realizar, en primer lugar, llevaré a cabo un análisis exploratorio de los datos para comprender mejor su distribución y características. Luego, identificaré las variables relevantes para el análisis de ingresos y realizaré una prueba de hipótesis para determinar si existe una diferencia significativa en los ingresos generados por cada tarifa. Además, utilizaré técnicas de visualización de datos para presentar los resultados de manera clara y efectiva.En última instancia, el objetivo es proporcionar a Megaline recomendaciones basadas en evidencia que les permitan tomar decisiones informadas sobre cómo maximizar sus ingresos a través de las tarifas de prepago.\n",
    "    \n"
   ]
  },
  {
   "cell_type": "markdown",
   "metadata": {},
   "source": [
    "<div class=\"alert alert-block alert-danger\">\n",
    "    <b>Comentario del revisor</b> <a class=\"tocSkip\"></a>\n",
    "    \n",
    "# Comentario Importante.\n",
    "\n",
    "~~Hola Christian, recuerda que es importante que elimines los comentarios entre corchetes, estos simplemente una, guía que te da el proyecto para orientar tu forma de generar el contenido de texto del proyecto; sin embargo, el ideal es que tú mismo crees el hilo conductor de todo el desarrollo.~~</div>\n",
    "\n",
    "\n"
   ]
  },
  {
   "cell_type": "markdown",
   "metadata": {
    "id": "MQi4IPy70q0y"
   },
   "source": [
    "## Inicialización"
   ]
  },
  {
   "cell_type": "code",
   "execution_count": 1,
   "metadata": {
    "id": "MtYIuBxu0q0z"
   },
   "outputs": [],
   "source": [
    "import pandas as pd\n",
    "import matplotlib.pyplot as plt\n",
    "from scipy import stats\n",
    "import numpy as np\n",
    "\n",
    "# Cargar todas las librerías"
   ]
  },
  {
   "cell_type": "markdown",
   "metadata": {},
   "source": [
    "<div class=\"alert alert-block alert-danger\">\n",
    "    <b>Comentario del revisor</b> <a class=\"tocSkip\"></a>\n",
    "    \n",
    "~~En esta sección solo debería estar el importe de **todas** las librerías que necesites para desarrollar el proyecto.~~\n",
    "</div>"
   ]
  },
  {
   "cell_type": "markdown",
   "metadata": {},
   "source": [
    "<div class=\"alert alert-block alert-success\">\n",
    "    <b>Comentario del revisor #3</b> <a class=\"tocSkip\"></a>\n",
    "    \n",
    "Buen trabajo.\n",
    "</div>"
   ]
  },
  {
   "cell_type": "markdown",
   "metadata": {
    "id": "4ysWWC5i0q00"
   },
   "source": [
    "## Cargar datos"
   ]
  },
  {
   "cell_type": "code",
   "execution_count": 2,
   "metadata": {
    "id": "CCqPW7rS0q01"
   },
   "outputs": [],
   "source": [
    "df_calls = pd.read_csv('/datasets/megaline_calls.csv')  \n",
    "df_internet = pd.read_csv('/datasets/megaline_internet.csv')\n",
    "df_messages = pd.read_csv('/datasets/megaline_messages.csv')\n",
    "df_plans = pd.read_csv('/datasets/megaline_plans.csv')\n",
    "df_users = pd.read_csv('/datasets/megaline_users.csv')\n",
    "\n",
    "# Carga los archivos de datos en diferentes DataFrames"
   ]
  },
  {
   "cell_type": "markdown",
   "metadata": {},
   "source": [
    "<div class=\"alert alert-block alert-danger\">\n",
    "    <b>Comentario del revisor</b> <a class=\"tocSkip\"></a>\n",
    "    \n",
    "~~En esta sección solo debería el cargue de los datos.~~"
   ]
  },
  {
   "cell_type": "markdown",
   "metadata": {},
   "source": [
    "<div class=\"alert alert-block alert-success\">\n",
    "    <b>Comentario del revisor #3</b> <a class=\"tocSkip\"></a>\n",
    "    \n",
    "Buen trabajo.\n",
    "</div>"
   ]
  },
  {
   "cell_type": "markdown",
   "metadata": {
    "id": "69qqoJ3r0q01"
   },
   "source": [
    "## Preparar los datos"
   ]
  },
  {
   "cell_type": "markdown",
   "metadata": {
    "id": "vUuZw80S0q01"
   },
   "source": [
    "Se realiza un análisis exploratorio de datos para una mejor comprención incial de los datos y así poder identificar si es necesario alguna corrección en cada tabla. \n"
   ]
  },
  {
   "cell_type": "code",
   "execution_count": 3,
   "metadata": {},
   "outputs": [
    {
     "name": "stdout",
     "output_type": "stream",
     "text": [
      "<class 'pandas.core.frame.DataFrame'>\n",
      "RangeIndex: 137735 entries, 0 to 137734\n",
      "Data columns (total 4 columns):\n",
      " #   Column     Non-Null Count   Dtype  \n",
      "---  ------     --------------   -----  \n",
      " 0   id         137735 non-null  object \n",
      " 1   user_id    137735 non-null  int64  \n",
      " 2   call_date  137735 non-null  object \n",
      " 3   duration   137735 non-null  float64\n",
      "dtypes: float64(1), int64(1), object(2)\n",
      "memory usage: 4.2+ MB\n",
      "\n",
      "<class 'pandas.core.frame.DataFrame'>\n",
      "RangeIndex: 104825 entries, 0 to 104824\n",
      "Data columns (total 4 columns):\n",
      " #   Column        Non-Null Count   Dtype  \n",
      "---  ------        --------------   -----  \n",
      " 0   id            104825 non-null  object \n",
      " 1   user_id       104825 non-null  int64  \n",
      " 2   session_date  104825 non-null  object \n",
      " 3   mb_used       104825 non-null  float64\n",
      "dtypes: float64(1), int64(1), object(2)\n",
      "memory usage: 3.2+ MB\n",
      "\n"
     ]
    }
   ],
   "source": [
    "df_calls.info()\n",
    "print()\n",
    "df_internet.info()\n",
    "print()"
   ]
  },
  {
   "cell_type": "markdown",
   "metadata": {
    "id": "ohBhimvH0q01"
   },
   "source": [
    "### Tarifas"
   ]
  },
  {
   "cell_type": "code",
   "execution_count": 4,
   "metadata": {
    "id": "GptqP3Q40q02"
   },
   "outputs": [
    {
     "name": "stdout",
     "output_type": "stream",
     "text": [
      "<class 'pandas.core.frame.DataFrame'>\n",
      "RangeIndex: 2 entries, 0 to 1\n",
      "Data columns (total 8 columns):\n",
      " #   Column                 Non-Null Count  Dtype  \n",
      "---  ------                 --------------  -----  \n",
      " 0   messages_included      2 non-null      int64  \n",
      " 1   mb_per_month_included  2 non-null      int64  \n",
      " 2   minutes_included       2 non-null      int64  \n",
      " 3   usd_monthly_pay        2 non-null      int64  \n",
      " 4   usd_per_gb             2 non-null      int64  \n",
      " 5   usd_per_message        2 non-null      float64\n",
      " 6   usd_per_minute         2 non-null      float64\n",
      " 7   plan_name              2 non-null      object \n",
      "dtypes: float64(2), int64(5), object(1)\n",
      "memory usage: 256.0+ bytes\n"
     ]
    }
   ],
   "source": [
    "df_plans.info() # Imprime la información general/resumida sobre el DataFrame de las tarifas"
   ]
  },
  {
   "cell_type": "code",
   "execution_count": 5,
   "metadata": {
    "id": "64xzjwL70q02"
   },
   "outputs": [
    {
     "data": {
      "text/html": [
       "<div>\n",
       "<style scoped>\n",
       "    .dataframe tbody tr th:only-of-type {\n",
       "        vertical-align: middle;\n",
       "    }\n",
       "\n",
       "    .dataframe tbody tr th {\n",
       "        vertical-align: top;\n",
       "    }\n",
       "\n",
       "    .dataframe thead th {\n",
       "        text-align: right;\n",
       "    }\n",
       "</style>\n",
       "<table border=\"1\" class=\"dataframe\">\n",
       "  <thead>\n",
       "    <tr style=\"text-align: right;\">\n",
       "      <th></th>\n",
       "      <th>messages_included</th>\n",
       "      <th>mb_per_month_included</th>\n",
       "      <th>minutes_included</th>\n",
       "      <th>usd_monthly_pay</th>\n",
       "      <th>usd_per_gb</th>\n",
       "      <th>usd_per_message</th>\n",
       "      <th>usd_per_minute</th>\n",
       "      <th>plan_name</th>\n",
       "    </tr>\n",
       "  </thead>\n",
       "  <tbody>\n",
       "    <tr>\n",
       "      <th>0</th>\n",
       "      <td>50</td>\n",
       "      <td>15360</td>\n",
       "      <td>500</td>\n",
       "      <td>20</td>\n",
       "      <td>10</td>\n",
       "      <td>0.03</td>\n",
       "      <td>0.03</td>\n",
       "      <td>surf</td>\n",
       "    </tr>\n",
       "    <tr>\n",
       "      <th>1</th>\n",
       "      <td>1000</td>\n",
       "      <td>30720</td>\n",
       "      <td>3000</td>\n",
       "      <td>70</td>\n",
       "      <td>7</td>\n",
       "      <td>0.01</td>\n",
       "      <td>0.01</td>\n",
       "      <td>ultimate</td>\n",
       "    </tr>\n",
       "  </tbody>\n",
       "</table>\n",
       "</div>"
      ],
      "text/plain": [
       "   messages_included  mb_per_month_included  minutes_included  \\\n",
       "0                 50                  15360               500   \n",
       "1               1000                  30720              3000   \n",
       "\n",
       "   usd_monthly_pay  usd_per_gb  usd_per_message  usd_per_minute plan_name  \n",
       "0               20          10             0.03            0.03      surf  \n",
       "1               70           7             0.01            0.01  ultimate  "
      ]
     },
     "metadata": {},
     "output_type": "display_data"
    }
   ],
   "source": [
    "display(df_plans.head()) # Imprime una muestra de los datos para las tarifas"
   ]
  },
  {
   "cell_type": "markdown",
   "metadata": {
    "id": "mEc_3_hs0q02"
   },
   "source": [
    "_Se observa que la columna mb_per_month_included se encuentra en megabites y para realizar mejor el tratamiento de datos se transforma a GB_\n"
   ]
  },
  {
   "cell_type": "markdown",
   "metadata": {},
   "source": [
    "#### Corregir los datos"
   ]
  },
  {
   "cell_type": "code",
   "execution_count": 6,
   "metadata": {},
   "outputs": [],
   "source": [
    "# Cambiar el nombre de la columna\n",
    "df_plans['gb_per_month_included'] = df_plans['mb_per_month_included'] / 1024\n",
    "\n",
    "# Eliminar la columna original \n",
    "df_plans.drop(columns=['mb_per_month_included'], inplace=True)"
   ]
  },
  {
   "cell_type": "markdown",
   "metadata": {},
   "source": [
    "#### Enriquecer los datos"
   ]
  },
  {
   "cell_type": "code",
   "execution_count": 7,
   "metadata": {},
   "outputs": [
    {
     "data": {
      "text/html": [
       "<div>\n",
       "<style scoped>\n",
       "    .dataframe tbody tr th:only-of-type {\n",
       "        vertical-align: middle;\n",
       "    }\n",
       "\n",
       "    .dataframe tbody tr th {\n",
       "        vertical-align: top;\n",
       "    }\n",
       "\n",
       "    .dataframe thead th {\n",
       "        text-align: right;\n",
       "    }\n",
       "</style>\n",
       "<table border=\"1\" class=\"dataframe\">\n",
       "  <thead>\n",
       "    <tr style=\"text-align: right;\">\n",
       "      <th></th>\n",
       "      <th>messages_included</th>\n",
       "      <th>minutes_included</th>\n",
       "      <th>usd_monthly_pay</th>\n",
       "      <th>usd_per_gb</th>\n",
       "      <th>usd_per_message</th>\n",
       "      <th>usd_per_minute</th>\n",
       "      <th>plan_name</th>\n",
       "      <th>gb_per_month_included</th>\n",
       "    </tr>\n",
       "  </thead>\n",
       "  <tbody>\n",
       "    <tr>\n",
       "      <th>0</th>\n",
       "      <td>50</td>\n",
       "      <td>500</td>\n",
       "      <td>20</td>\n",
       "      <td>10</td>\n",
       "      <td>0.03</td>\n",
       "      <td>0.03</td>\n",
       "      <td>surf</td>\n",
       "      <td>15.0</td>\n",
       "    </tr>\n",
       "    <tr>\n",
       "      <th>1</th>\n",
       "      <td>1000</td>\n",
       "      <td>3000</td>\n",
       "      <td>70</td>\n",
       "      <td>7</td>\n",
       "      <td>0.01</td>\n",
       "      <td>0.01</td>\n",
       "      <td>ultimate</td>\n",
       "      <td>30.0</td>\n",
       "    </tr>\n",
       "  </tbody>\n",
       "</table>\n",
       "</div>"
      ],
      "text/plain": [
       "   messages_included  minutes_included  usd_monthly_pay  usd_per_gb  \\\n",
       "0                 50               500               20          10   \n",
       "1               1000              3000               70           7   \n",
       "\n",
       "   usd_per_message  usd_per_minute plan_name  gb_per_month_included  \n",
       "0             0.03            0.03      surf                   15.0  \n",
       "1             0.01            0.01  ultimate                   30.0  "
      ]
     },
     "metadata": {},
     "output_type": "display_data"
    }
   ],
   "source": [
    "display(df_plans.head())"
   ]
  },
  {
   "cell_type": "markdown",
   "metadata": {},
   "source": [
    "<div class=\"alert alert-block alert-danger\">\n",
    "    <b>Comentario del revisor</b> <a class=\"tocSkip\"></a>\n",
    "    \n",
    "~~Buen trabajo explorando la tabla ``df_plans``. Falta revisar algunos aspectos como la transformación de la variable en unidades megabytes a Gigabytes.~~\n",
    "</div>"
   ]
  },
  {
   "cell_type": "markdown",
   "metadata": {},
   "source": [
    "<div class=\"alert alert-block alert-success\">\n",
    "    <b>Comentario del revisor #3</b> <a class=\"tocSkip\"></a>\n",
    "    \n",
    "Perfecto, buen trabajo.\n",
    "</div>"
   ]
  },
  {
   "cell_type": "markdown",
   "metadata": {
    "id": "1n2X6WXf0q04"
   },
   "source": [
    "### Usuarios/as"
   ]
  },
  {
   "cell_type": "code",
   "execution_count": 8,
   "metadata": {
    "id": "2NgjWFqx0q05"
   },
   "outputs": [
    {
     "name": "stdout",
     "output_type": "stream",
     "text": [
      "<class 'pandas.core.frame.DataFrame'>\n",
      "RangeIndex: 500 entries, 0 to 499\n",
      "Data columns (total 8 columns):\n",
      " #   Column      Non-Null Count  Dtype \n",
      "---  ------      --------------  ----- \n",
      " 0   user_id     500 non-null    int64 \n",
      " 1   first_name  500 non-null    object\n",
      " 2   last_name   500 non-null    object\n",
      " 3   age         500 non-null    int64 \n",
      " 4   city        500 non-null    object\n",
      " 5   reg_date    500 non-null    object\n",
      " 6   plan        500 non-null    object\n",
      " 7   churn_date  34 non-null     object\n",
      "dtypes: int64(2), object(6)\n",
      "memory usage: 31.4+ KB\n"
     ]
    }
   ],
   "source": [
    "df_users.info()\n",
    "# Imprime la información general/resumida sobre el DataFrame de usuarios"
   ]
  },
  {
   "cell_type": "code",
   "execution_count": 9,
   "metadata": {
    "id": "1IN1L9uh0q05"
   },
   "outputs": [
    {
     "data": {
      "text/html": [
       "<div>\n",
       "<style scoped>\n",
       "    .dataframe tbody tr th:only-of-type {\n",
       "        vertical-align: middle;\n",
       "    }\n",
       "\n",
       "    .dataframe tbody tr th {\n",
       "        vertical-align: top;\n",
       "    }\n",
       "\n",
       "    .dataframe thead th {\n",
       "        text-align: right;\n",
       "    }\n",
       "</style>\n",
       "<table border=\"1\" class=\"dataframe\">\n",
       "  <thead>\n",
       "    <tr style=\"text-align: right;\">\n",
       "      <th></th>\n",
       "      <th>user_id</th>\n",
       "      <th>first_name</th>\n",
       "      <th>last_name</th>\n",
       "      <th>age</th>\n",
       "      <th>city</th>\n",
       "      <th>reg_date</th>\n",
       "      <th>plan</th>\n",
       "      <th>churn_date</th>\n",
       "    </tr>\n",
       "  </thead>\n",
       "  <tbody>\n",
       "    <tr>\n",
       "      <th>0</th>\n",
       "      <td>1000</td>\n",
       "      <td>Anamaria</td>\n",
       "      <td>Bauer</td>\n",
       "      <td>45</td>\n",
       "      <td>Atlanta-Sandy Springs-Roswell, GA MSA</td>\n",
       "      <td>2018-12-24</td>\n",
       "      <td>ultimate</td>\n",
       "      <td>NaN</td>\n",
       "    </tr>\n",
       "    <tr>\n",
       "      <th>1</th>\n",
       "      <td>1001</td>\n",
       "      <td>Mickey</td>\n",
       "      <td>Wilkerson</td>\n",
       "      <td>28</td>\n",
       "      <td>Seattle-Tacoma-Bellevue, WA MSA</td>\n",
       "      <td>2018-08-13</td>\n",
       "      <td>surf</td>\n",
       "      <td>NaN</td>\n",
       "    </tr>\n",
       "    <tr>\n",
       "      <th>2</th>\n",
       "      <td>1002</td>\n",
       "      <td>Carlee</td>\n",
       "      <td>Hoffman</td>\n",
       "      <td>36</td>\n",
       "      <td>Las Vegas-Henderson-Paradise, NV MSA</td>\n",
       "      <td>2018-10-21</td>\n",
       "      <td>surf</td>\n",
       "      <td>NaN</td>\n",
       "    </tr>\n",
       "    <tr>\n",
       "      <th>3</th>\n",
       "      <td>1003</td>\n",
       "      <td>Reynaldo</td>\n",
       "      <td>Jenkins</td>\n",
       "      <td>52</td>\n",
       "      <td>Tulsa, OK MSA</td>\n",
       "      <td>2018-01-28</td>\n",
       "      <td>surf</td>\n",
       "      <td>NaN</td>\n",
       "    </tr>\n",
       "    <tr>\n",
       "      <th>4</th>\n",
       "      <td>1004</td>\n",
       "      <td>Leonila</td>\n",
       "      <td>Thompson</td>\n",
       "      <td>40</td>\n",
       "      <td>Seattle-Tacoma-Bellevue, WA MSA</td>\n",
       "      <td>2018-05-23</td>\n",
       "      <td>surf</td>\n",
       "      <td>NaN</td>\n",
       "    </tr>\n",
       "  </tbody>\n",
       "</table>\n",
       "</div>"
      ],
      "text/plain": [
       "   user_id first_name  last_name  age                                   city  \\\n",
       "0     1000   Anamaria      Bauer   45  Atlanta-Sandy Springs-Roswell, GA MSA   \n",
       "1     1001     Mickey  Wilkerson   28        Seattle-Tacoma-Bellevue, WA MSA   \n",
       "2     1002     Carlee    Hoffman   36   Las Vegas-Henderson-Paradise, NV MSA   \n",
       "3     1003   Reynaldo    Jenkins   52                          Tulsa, OK MSA   \n",
       "4     1004    Leonila   Thompson   40        Seattle-Tacoma-Bellevue, WA MSA   \n",
       "\n",
       "     reg_date      plan churn_date  \n",
       "0  2018-12-24  ultimate        NaN  \n",
       "1  2018-08-13      surf        NaN  \n",
       "2  2018-10-21      surf        NaN  \n",
       "3  2018-01-28      surf        NaN  \n",
       "4  2018-05-23      surf        NaN  "
      ]
     },
     "metadata": {},
     "output_type": "display_data"
    }
   ],
   "source": [
    "display(df_users.head())\n",
    "# Imprime una muestra de datos para usuarios"
   ]
  },
  {
   "cell_type": "markdown",
   "metadata": {
    "id": "dCZoUq4f0q06"
   },
   "source": [
    "Hay valores ausentes en la columna 'churn_date', tenemos que tener todos los valores para evitar problemas a futuro al momento de tratar la data, por eso se procederá a agregar a cada espacio vacío el valor \"NaN\". "
   ]
  },
  {
   "cell_type": "markdown",
   "metadata": {
    "id": "BX5FQh_I0q06"
   },
   "source": [
    "#### Corregir los datos"
   ]
  },
  {
   "cell_type": "code",
   "execution_count": 10,
   "metadata": {
    "id": "yUqX-K0C0q07"
   },
   "outputs": [],
   "source": [
    "# Se actualiza los valores nulos por el sting 'Activo' ya que evidencia el estado actual del usuario.  \n",
    "df_users['churn_date'].fillna(\"Activo\", inplace=True)\n",
    "\n",
    "# la columna 'reg_date' se coloca en formato datatime\n",
    "df_users['reg_date'] = pd.to_datetime(df_users['reg_date'])"
   ]
  },
  {
   "cell_type": "markdown",
   "metadata": {
    "id": "ycwuARJp0q07"
   },
   "source": [
    "#### Enriquecer los datos"
   ]
  },
  {
   "cell_type": "code",
   "execution_count": 11,
   "metadata": {
    "id": "iq0AaBS90q08"
   },
   "outputs": [
    {
     "data": {
      "text/html": [
       "<div>\n",
       "<style scoped>\n",
       "    .dataframe tbody tr th:only-of-type {\n",
       "        vertical-align: middle;\n",
       "    }\n",
       "\n",
       "    .dataframe tbody tr th {\n",
       "        vertical-align: top;\n",
       "    }\n",
       "\n",
       "    .dataframe thead th {\n",
       "        text-align: right;\n",
       "    }\n",
       "</style>\n",
       "<table border=\"1\" class=\"dataframe\">\n",
       "  <thead>\n",
       "    <tr style=\"text-align: right;\">\n",
       "      <th></th>\n",
       "      <th>user_id</th>\n",
       "      <th>first_name</th>\n",
       "      <th>last_name</th>\n",
       "      <th>age</th>\n",
       "      <th>city</th>\n",
       "      <th>reg_date</th>\n",
       "      <th>plan</th>\n",
       "      <th>churn_date</th>\n",
       "    </tr>\n",
       "  </thead>\n",
       "  <tbody>\n",
       "    <tr>\n",
       "      <th>0</th>\n",
       "      <td>1000</td>\n",
       "      <td>Anamaria</td>\n",
       "      <td>Bauer</td>\n",
       "      <td>45</td>\n",
       "      <td>Atlanta-Sandy Springs-Roswell, GA MSA</td>\n",
       "      <td>2018-12-24</td>\n",
       "      <td>ultimate</td>\n",
       "      <td>Activo</td>\n",
       "    </tr>\n",
       "    <tr>\n",
       "      <th>1</th>\n",
       "      <td>1001</td>\n",
       "      <td>Mickey</td>\n",
       "      <td>Wilkerson</td>\n",
       "      <td>28</td>\n",
       "      <td>Seattle-Tacoma-Bellevue, WA MSA</td>\n",
       "      <td>2018-08-13</td>\n",
       "      <td>surf</td>\n",
       "      <td>Activo</td>\n",
       "    </tr>\n",
       "    <tr>\n",
       "      <th>2</th>\n",
       "      <td>1002</td>\n",
       "      <td>Carlee</td>\n",
       "      <td>Hoffman</td>\n",
       "      <td>36</td>\n",
       "      <td>Las Vegas-Henderson-Paradise, NV MSA</td>\n",
       "      <td>2018-10-21</td>\n",
       "      <td>surf</td>\n",
       "      <td>Activo</td>\n",
       "    </tr>\n",
       "    <tr>\n",
       "      <th>3</th>\n",
       "      <td>1003</td>\n",
       "      <td>Reynaldo</td>\n",
       "      <td>Jenkins</td>\n",
       "      <td>52</td>\n",
       "      <td>Tulsa, OK MSA</td>\n",
       "      <td>2018-01-28</td>\n",
       "      <td>surf</td>\n",
       "      <td>Activo</td>\n",
       "    </tr>\n",
       "    <tr>\n",
       "      <th>4</th>\n",
       "      <td>1004</td>\n",
       "      <td>Leonila</td>\n",
       "      <td>Thompson</td>\n",
       "      <td>40</td>\n",
       "      <td>Seattle-Tacoma-Bellevue, WA MSA</td>\n",
       "      <td>2018-05-23</td>\n",
       "      <td>surf</td>\n",
       "      <td>Activo</td>\n",
       "    </tr>\n",
       "  </tbody>\n",
       "</table>\n",
       "</div>"
      ],
      "text/plain": [
       "   user_id first_name  last_name  age                                   city  \\\n",
       "0     1000   Anamaria      Bauer   45  Atlanta-Sandy Springs-Roswell, GA MSA   \n",
       "1     1001     Mickey  Wilkerson   28        Seattle-Tacoma-Bellevue, WA MSA   \n",
       "2     1002     Carlee    Hoffman   36   Las Vegas-Henderson-Paradise, NV MSA   \n",
       "3     1003   Reynaldo    Jenkins   52                          Tulsa, OK MSA   \n",
       "4     1004    Leonila   Thompson   40        Seattle-Tacoma-Bellevue, WA MSA   \n",
       "\n",
       "    reg_date      plan churn_date  \n",
       "0 2018-12-24  ultimate     Activo  \n",
       "1 2018-08-13      surf     Activo  \n",
       "2 2018-10-21      surf     Activo  \n",
       "3 2018-01-28      surf     Activo  \n",
       "4 2018-05-23      surf     Activo  "
      ]
     },
     "metadata": {},
     "output_type": "display_data"
    }
   ],
   "source": [
    "display(df_users.head())\n"
   ]
  },
  {
   "cell_type": "markdown",
   "metadata": {},
   "source": [
    "<div class=\"alert alert-block alert-danger\">\n",
    "    <b>Comentario del revisor</b> <a class=\"tocSkip\"></a>\n",
    "    \n",
    "~~Buen trabajo explorando la tabla ``df_users``, efectivamente el ideal es corregir el problema de los nulos en esta tabla, mi sugerencia sería cambio el valor de string de ``NaN`` por un string que represente porque esa fecha es nula, que en últimas es porque los usuarios están activos. Por otro lado, puedes enriquecer la tabla modificando el tipo de dato de la columna ``reg_date`` a ``datetime``.~~\n",
    "    \n",
    "~~Así mismo, sería interesante que explores la posible presencia de valores duplicados, aspectos estadísticos del contenido de la tabla usando métodos como ``describe()``, y generes conclusiones intermedias con lo realizado con esta tabla.~~\n",
    "</div>"
   ]
  },
  {
   "cell_type": "markdown",
   "metadata": {},
   "source": [
    "<div class=\"alert alert-block alert-success\">\n",
    "    <b>Comentario del revisor #3</b> <a class=\"tocSkip\"></a>\n",
    "    \n",
    "Ben trabajo.\n",
    "</div>"
   ]
  },
  {
   "cell_type": "markdown",
   "metadata": {
    "id": "o7MeKCid0q08"
   },
   "source": [
    "### Llamadas"
   ]
  },
  {
   "cell_type": "code",
   "execution_count": 12,
   "metadata": {
    "id": "6dDlnoDm0q08"
   },
   "outputs": [
    {
     "name": "stdout",
     "output_type": "stream",
     "text": [
      "              id  user_id   call_date  duration\n",
      "57428   1206_178     1206  2018-08-23      7.91\n",
      "65986    1239_69     1239  2018-12-27     10.81\n",
      "134231  1488_384     1488  2018-12-22      0.00\n",
      "7662    1036_254     1036  2018-12-10      0.77\n",
      "41743   1153_554     1153  2018-11-05      7.21\n",
      "57358    1206_57     1206  2018-09-16      0.00\n",
      "13808    1059_24     1059  2018-10-11     18.40\n",
      "49786   1180_369     1180  2018-12-05      2.57\n",
      "26292   1099_619     1099  2018-08-31      6.26\n",
      "79818   1285_343     1285  2018-12-19      0.00\n"
     ]
    }
   ],
   "source": [
    "# Imprime la información general/resumida sobre el DataFrame de las llamadas\n",
    "#display(df_calls.describe())\n",
    "print(df_calls.sample(10))\n",
    "# df_calls.info()"
   ]
  },
  {
   "cell_type": "code",
   "execution_count": 13,
   "metadata": {
    "id": "kuh1vlNB0q09"
   },
   "outputs": [
    {
     "data": {
      "text/html": [
       "<div>\n",
       "<style scoped>\n",
       "    .dataframe tbody tr th:only-of-type {\n",
       "        vertical-align: middle;\n",
       "    }\n",
       "\n",
       "    .dataframe tbody tr th {\n",
       "        vertical-align: top;\n",
       "    }\n",
       "\n",
       "    .dataframe thead th {\n",
       "        text-align: right;\n",
       "    }\n",
       "</style>\n",
       "<table border=\"1\" class=\"dataframe\">\n",
       "  <thead>\n",
       "    <tr style=\"text-align: right;\">\n",
       "      <th></th>\n",
       "      <th>id</th>\n",
       "      <th>user_id</th>\n",
       "      <th>call_date</th>\n",
       "      <th>duration</th>\n",
       "    </tr>\n",
       "  </thead>\n",
       "  <tbody>\n",
       "    <tr>\n",
       "      <th>99521</th>\n",
       "      <td>1357_322</td>\n",
       "      <td>1357</td>\n",
       "      <td>2018-07-12</td>\n",
       "      <td>0.00</td>\n",
       "    </tr>\n",
       "    <tr>\n",
       "      <th>99230</th>\n",
       "      <td>1355_376</td>\n",
       "      <td>1355</td>\n",
       "      <td>2018-10-12</td>\n",
       "      <td>4.48</td>\n",
       "    </tr>\n",
       "    <tr>\n",
       "      <th>13311</th>\n",
       "      <td>1057_190</td>\n",
       "      <td>1057</td>\n",
       "      <td>2018-11-13</td>\n",
       "      <td>8.56</td>\n",
       "    </tr>\n",
       "    <tr>\n",
       "      <th>105886</th>\n",
       "      <td>1373_366</td>\n",
       "      <td>1373</td>\n",
       "      <td>2018-09-25</td>\n",
       "      <td>4.65</td>\n",
       "    </tr>\n",
       "    <tr>\n",
       "      <th>133438</th>\n",
       "      <td>1483_253</td>\n",
       "      <td>1483</td>\n",
       "      <td>2018-11-05</td>\n",
       "      <td>10.88</td>\n",
       "    </tr>\n",
       "  </tbody>\n",
       "</table>\n",
       "</div>"
      ],
      "text/plain": [
       "              id  user_id   call_date  duration\n",
       "99521   1357_322     1357  2018-07-12      0.00\n",
       "99230   1355_376     1355  2018-10-12      4.48\n",
       "13311   1057_190     1057  2018-11-13      8.56\n",
       "105886  1373_366     1373  2018-09-25      4.65\n",
       "133438  1483_253     1483  2018-11-05     10.88"
      ]
     },
     "metadata": {},
     "output_type": "display_data"
    }
   ],
   "source": [
    "# Imprime una muestra de datos para las llamadas\n",
    "display(df_calls.sample(5))"
   ]
  },
  {
   "cell_type": "markdown",
   "metadata": {
    "id": "DOAxYJSx0q09"
   },
   "source": [
    "_Se visualiza que la columna 'call_date' se encuentra en tipo object cuándo debería estar en formato fecha y la columba 'duration' cuenta con valores de duración 0 y la acción ideal sería eliminar de la tabla esos valores._"
   ]
  },
  {
   "cell_type": "markdown",
   "metadata": {},
   "source": [
    "#### Corregir los datos"
   ]
  },
  {
   "cell_type": "code",
   "execution_count": 14,
   "metadata": {},
   "outputs": [],
   "source": [
    "# Cambiar el tipo a datatime a la columna 'call_date'\n",
    "df_calls['call_date'] = pd.to_datetime(df_calls['call_date'])\n",
    "\n",
    "# Eliminar las filas cuyos valores sean cero en la columna 'duration'\n",
    "df_calls = df_calls[df_calls['duration'] >= 0.10]\n",
    "\n",
    "# Redondeamos el valor de las llamadas \n",
    "df_calls['duration'] = np.ceil(df_calls['duration'])\n"
   ]
  },
  {
   "cell_type": "markdown",
   "metadata": {},
   "source": [
    "#### Enriquecer los datos"
   ]
  },
  {
   "cell_type": "code",
   "execution_count": 15,
   "metadata": {},
   "outputs": [
    {
     "data": {
      "text/html": [
       "<div>\n",
       "<style scoped>\n",
       "    .dataframe tbody tr th:only-of-type {\n",
       "        vertical-align: middle;\n",
       "    }\n",
       "\n",
       "    .dataframe tbody tr th {\n",
       "        vertical-align: top;\n",
       "    }\n",
       "\n",
       "    .dataframe thead th {\n",
       "        text-align: right;\n",
       "    }\n",
       "</style>\n",
       "<table border=\"1\" class=\"dataframe\">\n",
       "  <thead>\n",
       "    <tr style=\"text-align: right;\">\n",
       "      <th></th>\n",
       "      <th>id</th>\n",
       "      <th>user_id</th>\n",
       "      <th>call_date</th>\n",
       "      <th>duration</th>\n",
       "    </tr>\n",
       "  </thead>\n",
       "  <tbody>\n",
       "    <tr>\n",
       "      <th>69017</th>\n",
       "      <td>1247_350</td>\n",
       "      <td>1247</td>\n",
       "      <td>2018-12-27</td>\n",
       "      <td>5.0</td>\n",
       "    </tr>\n",
       "    <tr>\n",
       "      <th>99869</th>\n",
       "      <td>1358_240</td>\n",
       "      <td>1358</td>\n",
       "      <td>2018-05-20</td>\n",
       "      <td>11.0</td>\n",
       "    </tr>\n",
       "    <tr>\n",
       "      <th>34794</th>\n",
       "      <td>1132_68</td>\n",
       "      <td>1132</td>\n",
       "      <td>2018-05-10</td>\n",
       "      <td>11.0</td>\n",
       "    </tr>\n",
       "    <tr>\n",
       "      <th>128935</th>\n",
       "      <td>1465_56</td>\n",
       "      <td>1465</td>\n",
       "      <td>2018-12-21</td>\n",
       "      <td>6.0</td>\n",
       "    </tr>\n",
       "    <tr>\n",
       "      <th>44815</th>\n",
       "      <td>1162_30</td>\n",
       "      <td>1162</td>\n",
       "      <td>2018-10-30</td>\n",
       "      <td>17.0</td>\n",
       "    </tr>\n",
       "    <tr>\n",
       "      <th>34000</th>\n",
       "      <td>1126_953</td>\n",
       "      <td>1126</td>\n",
       "      <td>2018-09-02</td>\n",
       "      <td>1.0</td>\n",
       "    </tr>\n",
       "    <tr>\n",
       "      <th>99119</th>\n",
       "      <td>1355_162</td>\n",
       "      <td>1355</td>\n",
       "      <td>2018-11-08</td>\n",
       "      <td>3.0</td>\n",
       "    </tr>\n",
       "    <tr>\n",
       "      <th>2558</th>\n",
       "      <td>1010_138</td>\n",
       "      <td>1010</td>\n",
       "      <td>2018-03-31</td>\n",
       "      <td>9.0</td>\n",
       "    </tr>\n",
       "    <tr>\n",
       "      <th>72651</th>\n",
       "      <td>1257_391</td>\n",
       "      <td>1257</td>\n",
       "      <td>2018-11-27</td>\n",
       "      <td>4.0</td>\n",
       "    </tr>\n",
       "    <tr>\n",
       "      <th>119977</th>\n",
       "      <td>1417_764</td>\n",
       "      <td>1417</td>\n",
       "      <td>2018-12-25</td>\n",
       "      <td>4.0</td>\n",
       "    </tr>\n",
       "  </tbody>\n",
       "</table>\n",
       "</div>"
      ],
      "text/plain": [
       "              id  user_id  call_date  duration\n",
       "69017   1247_350     1247 2018-12-27       5.0\n",
       "99869   1358_240     1358 2018-05-20      11.0\n",
       "34794    1132_68     1132 2018-05-10      11.0\n",
       "128935   1465_56     1465 2018-12-21       6.0\n",
       "44815    1162_30     1162 2018-10-30      17.0\n",
       "34000   1126_953     1126 2018-09-02       1.0\n",
       "99119   1355_162     1355 2018-11-08       3.0\n",
       "2558    1010_138     1010 2018-03-31       9.0\n",
       "72651   1257_391     1257 2018-11-27       4.0\n",
       "119977  1417_764     1417 2018-12-25       4.0"
      ]
     },
     "metadata": {},
     "output_type": "display_data"
    },
    {
     "data": {
      "text/html": [
       "<div>\n",
       "<style scoped>\n",
       "    .dataframe tbody tr th:only-of-type {\n",
       "        vertical-align: middle;\n",
       "    }\n",
       "\n",
       "    .dataframe tbody tr th {\n",
       "        vertical-align: top;\n",
       "    }\n",
       "\n",
       "    .dataframe thead th {\n",
       "        text-align: right;\n",
       "    }\n",
       "</style>\n",
       "<table border=\"1\" class=\"dataframe\">\n",
       "  <thead>\n",
       "    <tr style=\"text-align: right;\">\n",
       "      <th></th>\n",
       "      <th>user_id</th>\n",
       "      <th>duration</th>\n",
       "    </tr>\n",
       "  </thead>\n",
       "  <tbody>\n",
       "    <tr>\n",
       "      <th>count</th>\n",
       "      <td>110429.000000</td>\n",
       "      <td>110429.000000</td>\n",
       "    </tr>\n",
       "    <tr>\n",
       "      <th>mean</th>\n",
       "      <td>1247.541135</td>\n",
       "      <td>8.909571</td>\n",
       "    </tr>\n",
       "    <tr>\n",
       "      <th>std</th>\n",
       "      <td>139.480152</td>\n",
       "      <td>5.341748</td>\n",
       "    </tr>\n",
       "    <tr>\n",
       "      <th>min</th>\n",
       "      <td>1000.000000</td>\n",
       "      <td>1.000000</td>\n",
       "    </tr>\n",
       "    <tr>\n",
       "      <th>25%</th>\n",
       "      <td>1127.000000</td>\n",
       "      <td>5.000000</td>\n",
       "    </tr>\n",
       "    <tr>\n",
       "      <th>50%</th>\n",
       "      <td>1247.000000</td>\n",
       "      <td>8.000000</td>\n",
       "    </tr>\n",
       "    <tr>\n",
       "      <th>75%</th>\n",
       "      <td>1365.000000</td>\n",
       "      <td>12.000000</td>\n",
       "    </tr>\n",
       "    <tr>\n",
       "      <th>max</th>\n",
       "      <td>1499.000000</td>\n",
       "      <td>38.000000</td>\n",
       "    </tr>\n",
       "  </tbody>\n",
       "</table>\n",
       "</div>"
      ],
      "text/plain": [
       "             user_id       duration\n",
       "count  110429.000000  110429.000000\n",
       "mean     1247.541135       8.909571\n",
       "std       139.480152       5.341748\n",
       "min      1000.000000       1.000000\n",
       "25%      1127.000000       5.000000\n",
       "50%      1247.000000       8.000000\n",
       "75%      1365.000000      12.000000\n",
       "max      1499.000000      38.000000"
      ]
     },
     "execution_count": 15,
     "metadata": {},
     "output_type": "execute_result"
    }
   ],
   "source": [
    "display(df_calls.sample(10))\n",
    "df_calls.describe()"
   ]
  },
  {
   "cell_type": "markdown",
   "metadata": {},
   "source": [
    "<div class=\"alert alert-block alert-danger\">\n",
    "    <b>Comentario del revisor</b> <a class=\"tocSkip\"></a>\n",
    "    \n",
    "~~Buen trabajo con la sección; sin embargo, hay algunos aspectos que se pueden tener en cuenta para mejorar el contenido de la misma.~~\n",
    "    \n",
    "- ~~No olvides usar metodos como ``describe()`` para explorar de mejor manera el contenido de la tabla.~~\n",
    "    \n",
    "- ~~Tienes que revisar el contenido de la variable ``duration``, hay algunas llamadas que toman el valor de 0 en duración, las cuales lo ideal sería poder eliminarlas de la tabla.~~\n",
    "    \n",
    "- ~~Convertir el tipo de dato de la variable de ``call_date`` a ``datetime``, después de esto puedes enriquecer la tabla generando columnas que hagan referencia al mes en específico de la llamada.~~\n",
    "\n",
    "- ~~Explora y usa el método ``np.ceil`` para 'redondear' las duraciones de la llamada.~~\n",
    "    \n",
    "</div>"
   ]
  },
  {
   "cell_type": "markdown",
   "metadata": {},
   "source": [
    "<div class=\"alert alert-block alert-success\">\n",
    "    <b>Comentario del revisor #3</b> <a class=\"tocSkip\"></a>\n",
    "    \n",
    "Bien hecho.\n",
    "</div>"
   ]
  },
  {
   "cell_type": "markdown",
   "metadata": {
    "id": "mOUZSi180q0_"
   },
   "source": [
    "### Mensajes"
   ]
  },
  {
   "cell_type": "code",
   "execution_count": 16,
   "metadata": {
    "id": "R-bYJpdV0q1A"
   },
   "outputs": [
    {
     "name": "stdout",
     "output_type": "stream",
     "text": [
      "             id  user_id message_date\n",
      "4961    1046_23     1046   2018-10-28\n",
      "63400   1405_21     1405   2018-09-05\n",
      "12943  1084_183     1084   2018-10-27\n",
      "71482  1466_134     1466   2018-07-19\n",
      "62234    1392_9     1392   2018-07-26\n",
      "28553  1174_343     1174   2018-12-23\n",
      "8151   1061_157     1061   2018-04-28\n",
      "18687   1121_14     1121   2018-12-30\n",
      "23987  1144_489     1144   2018-08-15\n",
      "61152  1384_229     1384   2018-11-01\n",
      "\n"
     ]
    },
    {
     "data": {
      "text/html": [
       "<div>\n",
       "<style scoped>\n",
       "    .dataframe tbody tr th:only-of-type {\n",
       "        vertical-align: middle;\n",
       "    }\n",
       "\n",
       "    .dataframe tbody tr th {\n",
       "        vertical-align: top;\n",
       "    }\n",
       "\n",
       "    .dataframe thead th {\n",
       "        text-align: right;\n",
       "    }\n",
       "</style>\n",
       "<table border=\"1\" class=\"dataframe\">\n",
       "  <thead>\n",
       "    <tr style=\"text-align: right;\">\n",
       "      <th></th>\n",
       "      <th>user_id</th>\n",
       "    </tr>\n",
       "  </thead>\n",
       "  <tbody>\n",
       "    <tr>\n",
       "      <th>count</th>\n",
       "      <td>76051.000000</td>\n",
       "    </tr>\n",
       "    <tr>\n",
       "      <th>mean</th>\n",
       "      <td>1245.972768</td>\n",
       "    </tr>\n",
       "    <tr>\n",
       "      <th>std</th>\n",
       "      <td>139.843635</td>\n",
       "    </tr>\n",
       "    <tr>\n",
       "      <th>min</th>\n",
       "      <td>1000.000000</td>\n",
       "    </tr>\n",
       "    <tr>\n",
       "      <th>25%</th>\n",
       "      <td>1123.000000</td>\n",
       "    </tr>\n",
       "    <tr>\n",
       "      <th>50%</th>\n",
       "      <td>1251.000000</td>\n",
       "    </tr>\n",
       "    <tr>\n",
       "      <th>75%</th>\n",
       "      <td>1362.000000</td>\n",
       "    </tr>\n",
       "    <tr>\n",
       "      <th>max</th>\n",
       "      <td>1497.000000</td>\n",
       "    </tr>\n",
       "  </tbody>\n",
       "</table>\n",
       "</div>"
      ],
      "text/plain": [
       "            user_id\n",
       "count  76051.000000\n",
       "mean    1245.972768\n",
       "std      139.843635\n",
       "min     1000.000000\n",
       "25%     1123.000000\n",
       "50%     1251.000000\n",
       "75%     1362.000000\n",
       "max     1497.000000"
      ]
     },
     "metadata": {},
     "output_type": "display_data"
    }
   ],
   "source": [
    "# Imprime la información general/resumida sobre el DataFrame de los mensajes\n",
    "print(df_messages.sample(10))\n",
    "print()\n",
    "display(df_messages.describe())"
   ]
  },
  {
   "cell_type": "code",
   "execution_count": 17,
   "metadata": {
    "id": "mCEl2iGE0q1A"
   },
   "outputs": [
    {
     "data": {
      "text/html": [
       "<div>\n",
       "<style scoped>\n",
       "    .dataframe tbody tr th:only-of-type {\n",
       "        vertical-align: middle;\n",
       "    }\n",
       "\n",
       "    .dataframe tbody tr th {\n",
       "        vertical-align: top;\n",
       "    }\n",
       "\n",
       "    .dataframe thead th {\n",
       "        text-align: right;\n",
       "    }\n",
       "</style>\n",
       "<table border=\"1\" class=\"dataframe\">\n",
       "  <thead>\n",
       "    <tr style=\"text-align: right;\">\n",
       "      <th></th>\n",
       "      <th>id</th>\n",
       "      <th>user_id</th>\n",
       "      <th>message_date</th>\n",
       "    </tr>\n",
       "  </thead>\n",
       "  <tbody>\n",
       "    <tr>\n",
       "      <th>20623</th>\n",
       "      <td>1130_298</td>\n",
       "      <td>1130</td>\n",
       "      <td>2018-10-10</td>\n",
       "    </tr>\n",
       "    <tr>\n",
       "      <th>27217</th>\n",
       "      <td>1167_174</td>\n",
       "      <td>1167</td>\n",
       "      <td>2018-06-19</td>\n",
       "    </tr>\n",
       "    <tr>\n",
       "      <th>60694</th>\n",
       "      <td>1382_345</td>\n",
       "      <td>1382</td>\n",
       "      <td>2018-10-26</td>\n",
       "    </tr>\n",
       "    <tr>\n",
       "      <th>49118</th>\n",
       "      <td>1328_76</td>\n",
       "      <td>1328</td>\n",
       "      <td>2018-11-24</td>\n",
       "    </tr>\n",
       "    <tr>\n",
       "      <th>39778</th>\n",
       "      <td>1258_108</td>\n",
       "      <td>1258</td>\n",
       "      <td>2018-12-16</td>\n",
       "    </tr>\n",
       "  </tbody>\n",
       "</table>\n",
       "</div>"
      ],
      "text/plain": [
       "             id  user_id message_date\n",
       "20623  1130_298     1130   2018-10-10\n",
       "27217  1167_174     1167   2018-06-19\n",
       "60694  1382_345     1382   2018-10-26\n",
       "49118   1328_76     1328   2018-11-24\n",
       "39778  1258_108     1258   2018-12-16"
      ]
     },
     "metadata": {},
     "output_type": "display_data"
    }
   ],
   "source": [
    "# Imprime una muestra de datos para los mensajes\n",
    "display(df_messages.sample(5))\n"
   ]
  },
  {
   "cell_type": "markdown",
   "metadata": {
    "id": "04xDj7KH0q1A"
   },
   "source": [
    "_Al igual que el DataFrame anterior falta colocar 'message_date' en formato fecha_"
   ]
  },
  {
   "cell_type": "markdown",
   "metadata": {},
   "source": [
    "#### Corregir los datos"
   ]
  },
  {
   "cell_type": "code",
   "execution_count": 18,
   "metadata": {},
   "outputs": [],
   "source": [
    "df_messages['message_date'] = pd.to_datetime(df_messages['message_date'])\n",
    "\n",
    "# Eliminar los valores duplicados \n",
    "df_messages = df_messages.drop_duplicates(subset=['id', 'user_id'])"
   ]
  },
  {
   "cell_type": "markdown",
   "metadata": {},
   "source": [
    "#### Enriquecer los datos"
   ]
  },
  {
   "cell_type": "code",
   "execution_count": 19,
   "metadata": {},
   "outputs": [
    {
     "name": "stdout",
     "output_type": "stream",
     "text": [
      "<class 'pandas.core.frame.DataFrame'>\n",
      "Int64Index: 76051 entries, 0 to 76050\n",
      "Data columns (total 3 columns):\n",
      " #   Column        Non-Null Count  Dtype         \n",
      "---  ------        --------------  -----         \n",
      " 0   id            76051 non-null  object        \n",
      " 1   user_id       76051 non-null  int64         \n",
      " 2   message_date  76051 non-null  datetime64[ns]\n",
      "dtypes: datetime64[ns](1), int64(1), object(1)\n",
      "memory usage: 2.3+ MB\n"
     ]
    },
    {
     "data": {
      "text/plain": [
       "None"
      ]
     },
     "metadata": {},
     "output_type": "display_data"
    }
   ],
   "source": [
    "display(df_messages.info())"
   ]
  },
  {
   "cell_type": "markdown",
   "metadata": {},
   "source": [
    "<div class=\"alert alert-block alert-danger\">\n",
    "    <b>Comentario del revisor</b> <a class=\"tocSkip\"></a>\n",
    "    \n",
    "~~Buen trabajo con la sección; sin embargo, hay algunos aspectos que se pueden tener en cuenta para mejorar el contenido de la misma.~~\n",
    "    \n",
    "- ~~Puedes enriquecer la tabla generando columnas que hagan referencia al mes en específico del mensaje.~~\n",
    "\n",
    "- ~~Revisa aspectos como duplicados, también podrías usar métodos como ``describe()`` para estudiar aspectos estadísticos de la tabla.~~\n",
    "    \n",
    "</div>"
   ]
  },
  {
   "cell_type": "markdown",
   "metadata": {},
   "source": [
    "<div class=\"alert alert-block alert-success\">\n",
    "    <b>Comentario del revisor #3</b> <a class=\"tocSkip\"></a>\n",
    "    \n",
    "Perfecto, buen trabajo.\n",
    "</div>"
   ]
  },
  {
   "cell_type": "markdown",
   "metadata": {
    "id": "bStkaxn40q1C"
   },
   "source": [
    "### Internet"
   ]
  },
  {
   "cell_type": "code",
   "execution_count": 20,
   "metadata": {
    "id": "e-Uz5qyn0q1C"
   },
   "outputs": [
    {
     "name": "stdout",
     "output_type": "stream",
     "text": [
      "<class 'pandas.core.frame.DataFrame'>\n",
      "RangeIndex: 104825 entries, 0 to 104824\n",
      "Data columns (total 4 columns):\n",
      " #   Column        Non-Null Count   Dtype  \n",
      "---  ------        --------------   -----  \n",
      " 0   id            104825 non-null  object \n",
      " 1   user_id       104825 non-null  int64  \n",
      " 2   session_date  104825 non-null  object \n",
      " 3   mb_used       104825 non-null  float64\n",
      "dtypes: float64(1), int64(1), object(2)\n",
      "memory usage: 3.2+ MB\n"
     ]
    },
    {
     "data": {
      "text/html": [
       "<div>\n",
       "<style scoped>\n",
       "    .dataframe tbody tr th:only-of-type {\n",
       "        vertical-align: middle;\n",
       "    }\n",
       "\n",
       "    .dataframe tbody tr th {\n",
       "        vertical-align: top;\n",
       "    }\n",
       "\n",
       "    .dataframe thead th {\n",
       "        text-align: right;\n",
       "    }\n",
       "</style>\n",
       "<table border=\"1\" class=\"dataframe\">\n",
       "  <thead>\n",
       "    <tr style=\"text-align: right;\">\n",
       "      <th></th>\n",
       "      <th>user_id</th>\n",
       "      <th>mb_used</th>\n",
       "    </tr>\n",
       "  </thead>\n",
       "  <tbody>\n",
       "    <tr>\n",
       "      <th>count</th>\n",
       "      <td>104825.000000</td>\n",
       "      <td>104825.000000</td>\n",
       "    </tr>\n",
       "    <tr>\n",
       "      <th>mean</th>\n",
       "      <td>1242.496361</td>\n",
       "      <td>366.713701</td>\n",
       "    </tr>\n",
       "    <tr>\n",
       "      <th>std</th>\n",
       "      <td>142.053913</td>\n",
       "      <td>277.170542</td>\n",
       "    </tr>\n",
       "    <tr>\n",
       "      <th>min</th>\n",
       "      <td>1000.000000</td>\n",
       "      <td>0.000000</td>\n",
       "    </tr>\n",
       "    <tr>\n",
       "      <th>25%</th>\n",
       "      <td>1122.000000</td>\n",
       "      <td>136.080000</td>\n",
       "    </tr>\n",
       "    <tr>\n",
       "      <th>50%</th>\n",
       "      <td>1236.000000</td>\n",
       "      <td>343.980000</td>\n",
       "    </tr>\n",
       "    <tr>\n",
       "      <th>75%</th>\n",
       "      <td>1367.000000</td>\n",
       "      <td>554.610000</td>\n",
       "    </tr>\n",
       "    <tr>\n",
       "      <th>max</th>\n",
       "      <td>1499.000000</td>\n",
       "      <td>1693.470000</td>\n",
       "    </tr>\n",
       "  </tbody>\n",
       "</table>\n",
       "</div>"
      ],
      "text/plain": [
       "             user_id        mb_used\n",
       "count  104825.000000  104825.000000\n",
       "mean     1242.496361     366.713701\n",
       "std       142.053913     277.170542\n",
       "min      1000.000000       0.000000\n",
       "25%      1122.000000     136.080000\n",
       "50%      1236.000000     343.980000\n",
       "75%      1367.000000     554.610000\n",
       "max      1499.000000    1693.470000"
      ]
     },
     "metadata": {},
     "output_type": "display_data"
    }
   ],
   "source": [
    "# Imprime la información general/resumida sobre el DataFrame de internet\n",
    "df_internet.info()\n",
    "display(df_internet.describe())\n"
   ]
  },
  {
   "cell_type": "code",
   "execution_count": 21,
   "metadata": {
    "id": "9r3x_XLw0q1C"
   },
   "outputs": [
    {
     "data": {
      "text/html": [
       "<div>\n",
       "<style scoped>\n",
       "    .dataframe tbody tr th:only-of-type {\n",
       "        vertical-align: middle;\n",
       "    }\n",
       "\n",
       "    .dataframe tbody tr th {\n",
       "        vertical-align: top;\n",
       "    }\n",
       "\n",
       "    .dataframe thead th {\n",
       "        text-align: right;\n",
       "    }\n",
       "</style>\n",
       "<table border=\"1\" class=\"dataframe\">\n",
       "  <thead>\n",
       "    <tr style=\"text-align: right;\">\n",
       "      <th></th>\n",
       "      <th>id</th>\n",
       "      <th>user_id</th>\n",
       "      <th>session_date</th>\n",
       "      <th>mb_used</th>\n",
       "    </tr>\n",
       "  </thead>\n",
       "  <tbody>\n",
       "    <tr>\n",
       "      <th>95902</th>\n",
       "      <td>1447_92</td>\n",
       "      <td>1447</td>\n",
       "      <td>2018-12-22</td>\n",
       "      <td>463.83</td>\n",
       "    </tr>\n",
       "    <tr>\n",
       "      <th>32472</th>\n",
       "      <td>1147_68</td>\n",
       "      <td>1147</td>\n",
       "      <td>2018-11-25</td>\n",
       "      <td>672.02</td>\n",
       "    </tr>\n",
       "    <tr>\n",
       "      <th>62563</th>\n",
       "      <td>1287_68</td>\n",
       "      <td>1287</td>\n",
       "      <td>2018-12-29</td>\n",
       "      <td>630.68</td>\n",
       "    </tr>\n",
       "    <tr>\n",
       "      <th>4053</th>\n",
       "      <td>1023_1</td>\n",
       "      <td>1023</td>\n",
       "      <td>2018-08-01</td>\n",
       "      <td>575.27</td>\n",
       "    </tr>\n",
       "    <tr>\n",
       "      <th>7201</th>\n",
       "      <td>1041_41</td>\n",
       "      <td>1041</td>\n",
       "      <td>2018-11-27</td>\n",
       "      <td>0.00</td>\n",
       "    </tr>\n",
       "  </tbody>\n",
       "</table>\n",
       "</div>"
      ],
      "text/plain": [
       "            id  user_id session_date  mb_used\n",
       "95902  1447_92     1447   2018-12-22   463.83\n",
       "32472  1147_68     1147   2018-11-25   672.02\n",
       "62563  1287_68     1287   2018-12-29   630.68\n",
       "4053    1023_1     1023   2018-08-01   575.27\n",
       "7201   1041_41     1041   2018-11-27     0.00"
      ]
     },
     "metadata": {},
     "output_type": "display_data"
    }
   ],
   "source": [
    "# Imprime una muestra de datos para el tráfico de internet\n",
    "display(df_internet.sample(5))"
   ]
  },
  {
   "cell_type": "markdown",
   "metadata": {
    "id": "EzOG5ik30q1D"
   },
   "source": [
    "_Al igual que el DataFrame anterior falta colocar 'message_date' en formato fecha_"
   ]
  },
  {
   "cell_type": "markdown",
   "metadata": {},
   "source": [
    "#### Corregir los datos"
   ]
  },
  {
   "cell_type": "code",
   "execution_count": 22,
   "metadata": {},
   "outputs": [],
   "source": [
    "df_internet['session_date'] = pd.to_datetime(df_internet['session_date'])\n",
    "\n",
    "# Crea una nueva columna 'session_month' que contiene el mes en específico\n",
    "df_internet['session_month'] = df_internet['session_date'].dt.month\n",
    "\n",
    "# Eliminar los valores duplicados \n",
    "df_internet = df_internet.drop_duplicates()"
   ]
  },
  {
   "cell_type": "markdown",
   "metadata": {},
   "source": [
    "#### Enriquecer los datos"
   ]
  },
  {
   "cell_type": "code",
   "execution_count": 23,
   "metadata": {},
   "outputs": [
    {
     "data": {
      "text/html": [
       "<div>\n",
       "<style scoped>\n",
       "    .dataframe tbody tr th:only-of-type {\n",
       "        vertical-align: middle;\n",
       "    }\n",
       "\n",
       "    .dataframe tbody tr th {\n",
       "        vertical-align: top;\n",
       "    }\n",
       "\n",
       "    .dataframe thead th {\n",
       "        text-align: right;\n",
       "    }\n",
       "</style>\n",
       "<table border=\"1\" class=\"dataframe\">\n",
       "  <thead>\n",
       "    <tr style=\"text-align: right;\">\n",
       "      <th></th>\n",
       "      <th>id</th>\n",
       "      <th>user_id</th>\n",
       "      <th>session_date</th>\n",
       "      <th>mb_used</th>\n",
       "      <th>session_month</th>\n",
       "    </tr>\n",
       "  </thead>\n",
       "  <tbody>\n",
       "    <tr>\n",
       "      <th>0</th>\n",
       "      <td>1000_13</td>\n",
       "      <td>1000</td>\n",
       "      <td>2018-12-29</td>\n",
       "      <td>89.86</td>\n",
       "      <td>12</td>\n",
       "    </tr>\n",
       "    <tr>\n",
       "      <th>1</th>\n",
       "      <td>1000_204</td>\n",
       "      <td>1000</td>\n",
       "      <td>2018-12-31</td>\n",
       "      <td>0.00</td>\n",
       "      <td>12</td>\n",
       "    </tr>\n",
       "    <tr>\n",
       "      <th>2</th>\n",
       "      <td>1000_379</td>\n",
       "      <td>1000</td>\n",
       "      <td>2018-12-28</td>\n",
       "      <td>660.40</td>\n",
       "      <td>12</td>\n",
       "    </tr>\n",
       "    <tr>\n",
       "      <th>3</th>\n",
       "      <td>1000_413</td>\n",
       "      <td>1000</td>\n",
       "      <td>2018-12-26</td>\n",
       "      <td>270.99</td>\n",
       "      <td>12</td>\n",
       "    </tr>\n",
       "    <tr>\n",
       "      <th>4</th>\n",
       "      <td>1000_442</td>\n",
       "      <td>1000</td>\n",
       "      <td>2018-12-27</td>\n",
       "      <td>880.22</td>\n",
       "      <td>12</td>\n",
       "    </tr>\n",
       "  </tbody>\n",
       "</table>\n",
       "</div>"
      ],
      "text/plain": [
       "         id  user_id session_date  mb_used  session_month\n",
       "0   1000_13     1000   2018-12-29    89.86             12\n",
       "1  1000_204     1000   2018-12-31     0.00             12\n",
       "2  1000_379     1000   2018-12-28   660.40             12\n",
       "3  1000_413     1000   2018-12-26   270.99             12\n",
       "4  1000_442     1000   2018-12-27   880.22             12"
      ]
     },
     "metadata": {},
     "output_type": "display_data"
    }
   ],
   "source": [
    "display(df_internet.head())"
   ]
  },
  {
   "cell_type": "markdown",
   "metadata": {},
   "source": [
    "<div class=\"alert alert-block alert-danger\">\n",
    "    <b>Comentario del revisor</b> <a class=\"tocSkip\"></a>\n",
    "    \n",
    "~~Buen trabajo con la sección; sin embargo, hay algunos aspectos que se pueden tener en cuenta para mejorar el contenido de la misma.~~\n",
    "    \n",
    "- ~~Puedes enriquecer la tabla generando columnas que hagan referencia al mes en específico de la sesión.~~\n",
    "\n",
    "- ~~Revisa aspectos como duplicados, también podrías usar métodos como ``describe()`` para estudiar aspectos estadísticos de la tabla.~~\n",
    "    \n",
    "</div>"
   ]
  },
  {
   "cell_type": "markdown",
   "metadata": {},
   "source": [
    "<div class=\"alert alert-block alert-success\">\n",
    "    <b>Comentario del revisor #3</b> <a class=\"tocSkip\"></a>\n",
    "    \n",
    "Buen trabajo.\n",
    "</div>"
   ]
  },
  {
   "cell_type": "markdown",
   "metadata": {
    "id": "3UA2cqIW0q1E"
   },
   "source": [
    "## Estudiar las condiciones de las tarifas"
   ]
  },
  {
   "cell_type": "code",
   "execution_count": 24,
   "metadata": {
    "id": "i409op8p0q1F"
   },
   "outputs": [
    {
     "data": {
      "text/html": [
       "<div>\n",
       "<style scoped>\n",
       "    .dataframe tbody tr th:only-of-type {\n",
       "        vertical-align: middle;\n",
       "    }\n",
       "\n",
       "    .dataframe tbody tr th {\n",
       "        vertical-align: top;\n",
       "    }\n",
       "\n",
       "    .dataframe thead th {\n",
       "        text-align: right;\n",
       "    }\n",
       "</style>\n",
       "<table border=\"1\" class=\"dataframe\">\n",
       "  <thead>\n",
       "    <tr style=\"text-align: right;\">\n",
       "      <th></th>\n",
       "      <th>messages_included</th>\n",
       "      <th>minutes_included</th>\n",
       "      <th>usd_monthly_pay</th>\n",
       "      <th>usd_per_gb</th>\n",
       "      <th>usd_per_message</th>\n",
       "      <th>usd_per_minute</th>\n",
       "      <th>plan_name</th>\n",
       "      <th>gb_per_month_included</th>\n",
       "    </tr>\n",
       "  </thead>\n",
       "  <tbody>\n",
       "    <tr>\n",
       "      <th>0</th>\n",
       "      <td>50</td>\n",
       "      <td>500</td>\n",
       "      <td>20</td>\n",
       "      <td>10</td>\n",
       "      <td>0.03</td>\n",
       "      <td>0.03</td>\n",
       "      <td>surf</td>\n",
       "      <td>15.0</td>\n",
       "    </tr>\n",
       "    <tr>\n",
       "      <th>1</th>\n",
       "      <td>1000</td>\n",
       "      <td>3000</td>\n",
       "      <td>70</td>\n",
       "      <td>7</td>\n",
       "      <td>0.01</td>\n",
       "      <td>0.01</td>\n",
       "      <td>ultimate</td>\n",
       "      <td>30.0</td>\n",
       "    </tr>\n",
       "  </tbody>\n",
       "</table>\n",
       "</div>"
      ],
      "text/plain": [
       "   messages_included  minutes_included  usd_monthly_pay  usd_per_gb  \\\n",
       "0                 50               500               20          10   \n",
       "1               1000              3000               70           7   \n",
       "\n",
       "   usd_per_message  usd_per_minute plan_name  gb_per_month_included  \n",
       "0             0.03            0.03      surf                   15.0  \n",
       "1             0.01            0.01  ultimate                   30.0  "
      ]
     },
     "metadata": {},
     "output_type": "display_data"
    }
   ],
   "source": [
    "display(df_plans.head()) # Imprime las condiciones de la tarifa y asegúrate de que te quedan claras"
   ]
  },
  {
   "cell_type": "markdown",
   "metadata": {},
   "source": [
    "\n",
    "En esta primera etapa se realizó un análisis exploratorio de datos como también identificación y acondicionamiento de información para poder continuar de manera efectiva los análisis posteriores, el análisis nos permite tener una idea general de los datos de cada dataframe lo cuál será importante posteriormente.\n"
   ]
  },
  {
   "cell_type": "markdown",
   "metadata": {},
   "source": [
    "<div class=\"alert alert-block alert-danger\">\n",
    "    <b>Comentario del revisor</b> <a class=\"tocSkip\"></a>\n",
    "\n",
    "~~Sería interesante que se generarán conclusiones intermedias de esta sección.~~\n",
    "</div>"
   ]
  },
  {
   "cell_type": "markdown",
   "metadata": {},
   "source": [
    "<div class=\"alert alert-block alert-success\">\n",
    "    <b>Comentario del revisor #3</b> <a class=\"tocSkip\"></a>\n",
    "    \n",
    "Bien hecho.\n",
    "</div>"
   ]
  },
  {
   "cell_type": "markdown",
   "metadata": {
    "id": "hMR1tP5d0q1F"
   },
   "source": [
    "## Agregar datos por usuario\n"
   ]
  },
  {
   "cell_type": "code",
   "execution_count": 25,
   "metadata": {
    "id": "A332cedB0q1G"
   },
   "outputs": [
    {
     "data": {
      "text/html": [
       "<div>\n",
       "<style scoped>\n",
       "    .dataframe tbody tr th:only-of-type {\n",
       "        vertical-align: middle;\n",
       "    }\n",
       "\n",
       "    .dataframe tbody tr th {\n",
       "        vertical-align: top;\n",
       "    }\n",
       "\n",
       "    .dataframe thead th {\n",
       "        text-align: right;\n",
       "    }\n",
       "</style>\n",
       "<table border=\"1\" class=\"dataframe\">\n",
       "  <thead>\n",
       "    <tr style=\"text-align: right;\">\n",
       "      <th></th>\n",
       "      <th>user_id</th>\n",
       "      <th>first_name</th>\n",
       "      <th>last_name</th>\n",
       "      <th>age</th>\n",
       "      <th>city</th>\n",
       "      <th>reg_date</th>\n",
       "      <th>plan</th>\n",
       "      <th>churn_date</th>\n",
       "      <th>call_month</th>\n",
       "      <th>call_count</th>\n",
       "    </tr>\n",
       "  </thead>\n",
       "  <tbody>\n",
       "    <tr>\n",
       "      <th>0</th>\n",
       "      <td>1000</td>\n",
       "      <td>Anamaria</td>\n",
       "      <td>Bauer</td>\n",
       "      <td>45</td>\n",
       "      <td>Atlanta-Sandy Springs-Roswell, GA MSA</td>\n",
       "      <td>2018-12-24</td>\n",
       "      <td>ultimate</td>\n",
       "      <td>Activo</td>\n",
       "      <td>12.0</td>\n",
       "      <td>16.0</td>\n",
       "    </tr>\n",
       "    <tr>\n",
       "      <th>1</th>\n",
       "      <td>1001</td>\n",
       "      <td>Mickey</td>\n",
       "      <td>Wilkerson</td>\n",
       "      <td>28</td>\n",
       "      <td>Seattle-Tacoma-Bellevue, WA MSA</td>\n",
       "      <td>2018-08-13</td>\n",
       "      <td>surf</td>\n",
       "      <td>Activo</td>\n",
       "      <td>8.0</td>\n",
       "      <td>22.0</td>\n",
       "    </tr>\n",
       "    <tr>\n",
       "      <th>2</th>\n",
       "      <td>1001</td>\n",
       "      <td>Mickey</td>\n",
       "      <td>Wilkerson</td>\n",
       "      <td>28</td>\n",
       "      <td>Seattle-Tacoma-Bellevue, WA MSA</td>\n",
       "      <td>2018-08-13</td>\n",
       "      <td>surf</td>\n",
       "      <td>Activo</td>\n",
       "      <td>9.0</td>\n",
       "      <td>38.0</td>\n",
       "    </tr>\n",
       "    <tr>\n",
       "      <th>3</th>\n",
       "      <td>1001</td>\n",
       "      <td>Mickey</td>\n",
       "      <td>Wilkerson</td>\n",
       "      <td>28</td>\n",
       "      <td>Seattle-Tacoma-Bellevue, WA MSA</td>\n",
       "      <td>2018-08-13</td>\n",
       "      <td>surf</td>\n",
       "      <td>Activo</td>\n",
       "      <td>10.0</td>\n",
       "      <td>47.0</td>\n",
       "    </tr>\n",
       "    <tr>\n",
       "      <th>4</th>\n",
       "      <td>1001</td>\n",
       "      <td>Mickey</td>\n",
       "      <td>Wilkerson</td>\n",
       "      <td>28</td>\n",
       "      <td>Seattle-Tacoma-Bellevue, WA MSA</td>\n",
       "      <td>2018-08-13</td>\n",
       "      <td>surf</td>\n",
       "      <td>Activo</td>\n",
       "      <td>11.0</td>\n",
       "      <td>49.0</td>\n",
       "    </tr>\n",
       "    <tr>\n",
       "      <th>5</th>\n",
       "      <td>1001</td>\n",
       "      <td>Mickey</td>\n",
       "      <td>Wilkerson</td>\n",
       "      <td>28</td>\n",
       "      <td>Seattle-Tacoma-Bellevue, WA MSA</td>\n",
       "      <td>2018-08-13</td>\n",
       "      <td>surf</td>\n",
       "      <td>Activo</td>\n",
       "      <td>12.0</td>\n",
       "      <td>46.0</td>\n",
       "    </tr>\n",
       "    <tr>\n",
       "      <th>6</th>\n",
       "      <td>1002</td>\n",
       "      <td>Carlee</td>\n",
       "      <td>Hoffman</td>\n",
       "      <td>36</td>\n",
       "      <td>Las Vegas-Henderson-Paradise, NV MSA</td>\n",
       "      <td>2018-10-21</td>\n",
       "      <td>surf</td>\n",
       "      <td>Activo</td>\n",
       "      <td>10.0</td>\n",
       "      <td>8.0</td>\n",
       "    </tr>\n",
       "    <tr>\n",
       "      <th>7</th>\n",
       "      <td>1002</td>\n",
       "      <td>Carlee</td>\n",
       "      <td>Hoffman</td>\n",
       "      <td>36</td>\n",
       "      <td>Las Vegas-Henderson-Paradise, NV MSA</td>\n",
       "      <td>2018-10-21</td>\n",
       "      <td>surf</td>\n",
       "      <td>Activo</td>\n",
       "      <td>11.0</td>\n",
       "      <td>48.0</td>\n",
       "    </tr>\n",
       "    <tr>\n",
       "      <th>8</th>\n",
       "      <td>1002</td>\n",
       "      <td>Carlee</td>\n",
       "      <td>Hoffman</td>\n",
       "      <td>36</td>\n",
       "      <td>Las Vegas-Henderson-Paradise, NV MSA</td>\n",
       "      <td>2018-10-21</td>\n",
       "      <td>surf</td>\n",
       "      <td>Activo</td>\n",
       "      <td>12.0</td>\n",
       "      <td>38.0</td>\n",
       "    </tr>\n",
       "    <tr>\n",
       "      <th>9</th>\n",
       "      <td>1003</td>\n",
       "      <td>Reynaldo</td>\n",
       "      <td>Jenkins</td>\n",
       "      <td>52</td>\n",
       "      <td>Tulsa, OK MSA</td>\n",
       "      <td>2018-01-28</td>\n",
       "      <td>surf</td>\n",
       "      <td>Activo</td>\n",
       "      <td>12.0</td>\n",
       "      <td>118.0</td>\n",
       "    </tr>\n",
       "  </tbody>\n",
       "</table>\n",
       "</div>"
      ],
      "text/plain": [
       "   user_id first_name  last_name  age                                   city  \\\n",
       "0     1000   Anamaria      Bauer   45  Atlanta-Sandy Springs-Roswell, GA MSA   \n",
       "1     1001     Mickey  Wilkerson   28        Seattle-Tacoma-Bellevue, WA MSA   \n",
       "2     1001     Mickey  Wilkerson   28        Seattle-Tacoma-Bellevue, WA MSA   \n",
       "3     1001     Mickey  Wilkerson   28        Seattle-Tacoma-Bellevue, WA MSA   \n",
       "4     1001     Mickey  Wilkerson   28        Seattle-Tacoma-Bellevue, WA MSA   \n",
       "5     1001     Mickey  Wilkerson   28        Seattle-Tacoma-Bellevue, WA MSA   \n",
       "6     1002     Carlee    Hoffman   36   Las Vegas-Henderson-Paradise, NV MSA   \n",
       "7     1002     Carlee    Hoffman   36   Las Vegas-Henderson-Paradise, NV MSA   \n",
       "8     1002     Carlee    Hoffman   36   Las Vegas-Henderson-Paradise, NV MSA   \n",
       "9     1003   Reynaldo    Jenkins   52                          Tulsa, OK MSA   \n",
       "\n",
       "    reg_date      plan churn_date  call_month  call_count  \n",
       "0 2018-12-24  ultimate     Activo        12.0        16.0  \n",
       "1 2018-08-13      surf     Activo         8.0        22.0  \n",
       "2 2018-08-13      surf     Activo         9.0        38.0  \n",
       "3 2018-08-13      surf     Activo        10.0        47.0  \n",
       "4 2018-08-13      surf     Activo        11.0        49.0  \n",
       "5 2018-08-13      surf     Activo        12.0        46.0  \n",
       "6 2018-10-21      surf     Activo        10.0         8.0  \n",
       "7 2018-10-21      surf     Activo        11.0        48.0  \n",
       "8 2018-10-21      surf     Activo        12.0        38.0  \n",
       "9 2018-01-28      surf     Activo        12.0       118.0  "
      ]
     },
     "metadata": {},
     "output_type": "display_data"
    },
    {
     "name": "stdout",
     "output_type": "stream",
     "text": [
      "<class 'pandas.core.frame.DataFrame'>\n",
      "Int64Index: 110429 entries, 0 to 137734\n",
      "Data columns (total 5 columns):\n",
      " #   Column      Non-Null Count   Dtype         \n",
      "---  ------      --------------   -----         \n",
      " 0   id          110429 non-null  object        \n",
      " 1   user_id     110429 non-null  int64         \n",
      " 2   call_date   110429 non-null  datetime64[ns]\n",
      " 3   duration    110429 non-null  float64       \n",
      " 4   call_month  110429 non-null  int64         \n",
      "dtypes: datetime64[ns](1), float64(1), int64(2), object(1)\n",
      "memory usage: 5.1+ MB\n"
     ]
    }
   ],
   "source": [
    "# Calcula el número de llamadas hechas por cada usuario al mes.\n",
    "\n",
    "# Crear nueva columna en 'df_calls' que contenga el mes de cada llamada\n",
    "df_calls['call_month']=df_calls['call_date'].dt.month\n",
    "\n",
    "# Agrupar datos por 'user_id' y 'call_month' y contar las llamadas en cada grupo. \n",
    "calls_per_month=df_calls.groupby(['user_id','call_month']).size().reset_index(name='call_count')\n",
    "\n",
    "# Unir información de los datos de usuario combinando 'call_per_month' con 'df_users' basado con la columna 'user_id'\n",
    "user_calls_per_month=df_users.merge(calls_per_month, on='user_id',how='left')\n",
    "\n",
    "# visualizamos la nueva tabla creada\n",
    "display(user_calls_per_month.head(10))\n",
    "df_calls.info()\n"
   ]
  },
  {
   "cell_type": "markdown",
   "metadata": {},
   "source": [
    "    \n",
    "La tabla nos permite visualizar el número de llamadas realizadas por cada usuario por mes dependiendo de la ciudad de ubicación del usuario, esta información se muestra en la columna 'call_count'\n"
   ]
  },
  {
   "cell_type": "code",
   "execution_count": 26,
   "metadata": {
    "id": "aw2cmuql0q1G",
    "scrolled": true
   },
   "outputs": [
    {
     "data": {
      "text/html": [
       "<div>\n",
       "<style scoped>\n",
       "    .dataframe tbody tr th:only-of-type {\n",
       "        vertical-align: middle;\n",
       "    }\n",
       "\n",
       "    .dataframe tbody tr th {\n",
       "        vertical-align: top;\n",
       "    }\n",
       "\n",
       "    .dataframe thead th {\n",
       "        text-align: right;\n",
       "    }\n",
       "</style>\n",
       "<table border=\"1\" class=\"dataframe\">\n",
       "  <thead>\n",
       "    <tr style=\"text-align: right;\">\n",
       "      <th></th>\n",
       "      <th>user_id</th>\n",
       "      <th>first_name</th>\n",
       "      <th>last_name</th>\n",
       "      <th>age</th>\n",
       "      <th>city</th>\n",
       "      <th>reg_date</th>\n",
       "      <th>plan</th>\n",
       "      <th>churn_date</th>\n",
       "      <th>call_month</th>\n",
       "      <th>total_minutes</th>\n",
       "    </tr>\n",
       "  </thead>\n",
       "  <tbody>\n",
       "    <tr>\n",
       "      <th>0</th>\n",
       "      <td>1000</td>\n",
       "      <td>Anamaria</td>\n",
       "      <td>Bauer</td>\n",
       "      <td>45</td>\n",
       "      <td>Atlanta-Sandy Springs-Roswell, GA MSA</td>\n",
       "      <td>2018-12-24</td>\n",
       "      <td>ultimate</td>\n",
       "      <td>Activo</td>\n",
       "      <td>12.0</td>\n",
       "      <td>124.0</td>\n",
       "    </tr>\n",
       "    <tr>\n",
       "      <th>1</th>\n",
       "      <td>1001</td>\n",
       "      <td>Mickey</td>\n",
       "      <td>Wilkerson</td>\n",
       "      <td>28</td>\n",
       "      <td>Seattle-Tacoma-Bellevue, WA MSA</td>\n",
       "      <td>2018-08-13</td>\n",
       "      <td>surf</td>\n",
       "      <td>Activo</td>\n",
       "      <td>8.0</td>\n",
       "      <td>182.0</td>\n",
       "    </tr>\n",
       "    <tr>\n",
       "      <th>2</th>\n",
       "      <td>1001</td>\n",
       "      <td>Mickey</td>\n",
       "      <td>Wilkerson</td>\n",
       "      <td>28</td>\n",
       "      <td>Seattle-Tacoma-Bellevue, WA MSA</td>\n",
       "      <td>2018-08-13</td>\n",
       "      <td>surf</td>\n",
       "      <td>Activo</td>\n",
       "      <td>9.0</td>\n",
       "      <td>315.0</td>\n",
       "    </tr>\n",
       "    <tr>\n",
       "      <th>3</th>\n",
       "      <td>1001</td>\n",
       "      <td>Mickey</td>\n",
       "      <td>Wilkerson</td>\n",
       "      <td>28</td>\n",
       "      <td>Seattle-Tacoma-Bellevue, WA MSA</td>\n",
       "      <td>2018-08-13</td>\n",
       "      <td>surf</td>\n",
       "      <td>Activo</td>\n",
       "      <td>10.0</td>\n",
       "      <td>393.0</td>\n",
       "    </tr>\n",
       "    <tr>\n",
       "      <th>4</th>\n",
       "      <td>1001</td>\n",
       "      <td>Mickey</td>\n",
       "      <td>Wilkerson</td>\n",
       "      <td>28</td>\n",
       "      <td>Seattle-Tacoma-Bellevue, WA MSA</td>\n",
       "      <td>2018-08-13</td>\n",
       "      <td>surf</td>\n",
       "      <td>Activo</td>\n",
       "      <td>11.0</td>\n",
       "      <td>426.0</td>\n",
       "    </tr>\n",
       "    <tr>\n",
       "      <th>5</th>\n",
       "      <td>1001</td>\n",
       "      <td>Mickey</td>\n",
       "      <td>Wilkerson</td>\n",
       "      <td>28</td>\n",
       "      <td>Seattle-Tacoma-Bellevue, WA MSA</td>\n",
       "      <td>2018-08-13</td>\n",
       "      <td>surf</td>\n",
       "      <td>Activo</td>\n",
       "      <td>12.0</td>\n",
       "      <td>412.0</td>\n",
       "    </tr>\n",
       "    <tr>\n",
       "      <th>6</th>\n",
       "      <td>1002</td>\n",
       "      <td>Carlee</td>\n",
       "      <td>Hoffman</td>\n",
       "      <td>36</td>\n",
       "      <td>Las Vegas-Henderson-Paradise, NV MSA</td>\n",
       "      <td>2018-10-21</td>\n",
       "      <td>surf</td>\n",
       "      <td>Activo</td>\n",
       "      <td>10.0</td>\n",
       "      <td>59.0</td>\n",
       "    </tr>\n",
       "    <tr>\n",
       "      <th>7</th>\n",
       "      <td>1002</td>\n",
       "      <td>Carlee</td>\n",
       "      <td>Hoffman</td>\n",
       "      <td>36</td>\n",
       "      <td>Las Vegas-Henderson-Paradise, NV MSA</td>\n",
       "      <td>2018-10-21</td>\n",
       "      <td>surf</td>\n",
       "      <td>Activo</td>\n",
       "      <td>11.0</td>\n",
       "      <td>386.0</td>\n",
       "    </tr>\n",
       "    <tr>\n",
       "      <th>8</th>\n",
       "      <td>1002</td>\n",
       "      <td>Carlee</td>\n",
       "      <td>Hoffman</td>\n",
       "      <td>36</td>\n",
       "      <td>Las Vegas-Henderson-Paradise, NV MSA</td>\n",
       "      <td>2018-10-21</td>\n",
       "      <td>surf</td>\n",
       "      <td>Activo</td>\n",
       "      <td>12.0</td>\n",
       "      <td>384.0</td>\n",
       "    </tr>\n",
       "    <tr>\n",
       "      <th>9</th>\n",
       "      <td>1003</td>\n",
       "      <td>Reynaldo</td>\n",
       "      <td>Jenkins</td>\n",
       "      <td>52</td>\n",
       "      <td>Tulsa, OK MSA</td>\n",
       "      <td>2018-01-28</td>\n",
       "      <td>surf</td>\n",
       "      <td>Activo</td>\n",
       "      <td>12.0</td>\n",
       "      <td>1104.0</td>\n",
       "    </tr>\n",
       "  </tbody>\n",
       "</table>\n",
       "</div>"
      ],
      "text/plain": [
       "   user_id first_name  last_name  age                                   city  \\\n",
       "0     1000   Anamaria      Bauer   45  Atlanta-Sandy Springs-Roswell, GA MSA   \n",
       "1     1001     Mickey  Wilkerson   28        Seattle-Tacoma-Bellevue, WA MSA   \n",
       "2     1001     Mickey  Wilkerson   28        Seattle-Tacoma-Bellevue, WA MSA   \n",
       "3     1001     Mickey  Wilkerson   28        Seattle-Tacoma-Bellevue, WA MSA   \n",
       "4     1001     Mickey  Wilkerson   28        Seattle-Tacoma-Bellevue, WA MSA   \n",
       "5     1001     Mickey  Wilkerson   28        Seattle-Tacoma-Bellevue, WA MSA   \n",
       "6     1002     Carlee    Hoffman   36   Las Vegas-Henderson-Paradise, NV MSA   \n",
       "7     1002     Carlee    Hoffman   36   Las Vegas-Henderson-Paradise, NV MSA   \n",
       "8     1002     Carlee    Hoffman   36   Las Vegas-Henderson-Paradise, NV MSA   \n",
       "9     1003   Reynaldo    Jenkins   52                          Tulsa, OK MSA   \n",
       "\n",
       "    reg_date      plan churn_date  call_month  total_minutes  \n",
       "0 2018-12-24  ultimate     Activo        12.0          124.0  \n",
       "1 2018-08-13      surf     Activo         8.0          182.0  \n",
       "2 2018-08-13      surf     Activo         9.0          315.0  \n",
       "3 2018-08-13      surf     Activo        10.0          393.0  \n",
       "4 2018-08-13      surf     Activo        11.0          426.0  \n",
       "5 2018-08-13      surf     Activo        12.0          412.0  \n",
       "6 2018-10-21      surf     Activo        10.0           59.0  \n",
       "7 2018-10-21      surf     Activo        11.0          386.0  \n",
       "8 2018-10-21      surf     Activo        12.0          384.0  \n",
       "9 2018-01-28      surf     Activo        12.0         1104.0  "
      ]
     },
     "metadata": {},
     "output_type": "display_data"
    }
   ],
   "source": [
    "# Calcula la cantidad de minutos usados por cada usuario al mes. \n",
    "\n",
    "# Calculamos la cantidad total de minutos usados por cada usuario al mes. Agrupando los datos por 'user_id' y 'call_month' y sumamos la columna 'duration' para obtener los minutos totales.\n",
    "minutes_per_month = df_calls.groupby(['user_id','call_month'])['duration'].sum().reset_index(name='total_minutes')\n",
    "\n",
    "# Para unir informaci´n con los datos de usuario usamos la función merge combinando 'minutes_per_month' con 'df_users' basando en la columna 'user_id'\n",
    "user_minutes_per_month = df_users.merge(minutes_per_month, on='user_id', how='left')\n",
    "\n",
    "# Visaulizamos la tabla\n",
    "display(user_minutes_per_month.head(10))\n"
   ]
  },
  {
   "cell_type": "markdown",
   "metadata": {},
   "source": [
    "\n",
    "La sumatoria de minutos usados por cada usuario al mes nos puede dar un enfoque de que usuario consume más llamadas, servirá para realizar gráficas más adelante y verificar tendencias. \n"
   ]
  },
  {
   "cell_type": "code",
   "execution_count": 27,
   "metadata": {
    "id": "CcQvNHn60q1G"
   },
   "outputs": [
    {
     "data": {
      "text/html": [
       "<div>\n",
       "<style scoped>\n",
       "    .dataframe tbody tr th:only-of-type {\n",
       "        vertical-align: middle;\n",
       "    }\n",
       "\n",
       "    .dataframe tbody tr th {\n",
       "        vertical-align: top;\n",
       "    }\n",
       "\n",
       "    .dataframe thead th {\n",
       "        text-align: right;\n",
       "    }\n",
       "</style>\n",
       "<table border=\"1\" class=\"dataframe\">\n",
       "  <thead>\n",
       "    <tr style=\"text-align: right;\">\n",
       "      <th></th>\n",
       "      <th>user_id</th>\n",
       "      <th>first_name</th>\n",
       "      <th>last_name</th>\n",
       "      <th>age</th>\n",
       "      <th>city</th>\n",
       "      <th>reg_date</th>\n",
       "      <th>plan</th>\n",
       "      <th>churn_date</th>\n",
       "      <th>message_month</th>\n",
       "      <th>message_count</th>\n",
       "    </tr>\n",
       "  </thead>\n",
       "  <tbody>\n",
       "    <tr>\n",
       "      <th>0</th>\n",
       "      <td>1000</td>\n",
       "      <td>Anamaria</td>\n",
       "      <td>Bauer</td>\n",
       "      <td>45</td>\n",
       "      <td>Atlanta-Sandy Springs-Roswell, GA MSA</td>\n",
       "      <td>2018-12-24</td>\n",
       "      <td>ultimate</td>\n",
       "      <td>Activo</td>\n",
       "      <td>12.0</td>\n",
       "      <td>11.0</td>\n",
       "    </tr>\n",
       "    <tr>\n",
       "      <th>1</th>\n",
       "      <td>1001</td>\n",
       "      <td>Mickey</td>\n",
       "      <td>Wilkerson</td>\n",
       "      <td>28</td>\n",
       "      <td>Seattle-Tacoma-Bellevue, WA MSA</td>\n",
       "      <td>2018-08-13</td>\n",
       "      <td>surf</td>\n",
       "      <td>Activo</td>\n",
       "      <td>8.0</td>\n",
       "      <td>30.0</td>\n",
       "    </tr>\n",
       "    <tr>\n",
       "      <th>2</th>\n",
       "      <td>1001</td>\n",
       "      <td>Mickey</td>\n",
       "      <td>Wilkerson</td>\n",
       "      <td>28</td>\n",
       "      <td>Seattle-Tacoma-Bellevue, WA MSA</td>\n",
       "      <td>2018-08-13</td>\n",
       "      <td>surf</td>\n",
       "      <td>Activo</td>\n",
       "      <td>9.0</td>\n",
       "      <td>44.0</td>\n",
       "    </tr>\n",
       "    <tr>\n",
       "      <th>3</th>\n",
       "      <td>1001</td>\n",
       "      <td>Mickey</td>\n",
       "      <td>Wilkerson</td>\n",
       "      <td>28</td>\n",
       "      <td>Seattle-Tacoma-Bellevue, WA MSA</td>\n",
       "      <td>2018-08-13</td>\n",
       "      <td>surf</td>\n",
       "      <td>Activo</td>\n",
       "      <td>10.0</td>\n",
       "      <td>53.0</td>\n",
       "    </tr>\n",
       "    <tr>\n",
       "      <th>4</th>\n",
       "      <td>1001</td>\n",
       "      <td>Mickey</td>\n",
       "      <td>Wilkerson</td>\n",
       "      <td>28</td>\n",
       "      <td>Seattle-Tacoma-Bellevue, WA MSA</td>\n",
       "      <td>2018-08-13</td>\n",
       "      <td>surf</td>\n",
       "      <td>Activo</td>\n",
       "      <td>11.0</td>\n",
       "      <td>36.0</td>\n",
       "    </tr>\n",
       "    <tr>\n",
       "      <th>5</th>\n",
       "      <td>1001</td>\n",
       "      <td>Mickey</td>\n",
       "      <td>Wilkerson</td>\n",
       "      <td>28</td>\n",
       "      <td>Seattle-Tacoma-Bellevue, WA MSA</td>\n",
       "      <td>2018-08-13</td>\n",
       "      <td>surf</td>\n",
       "      <td>Activo</td>\n",
       "      <td>12.0</td>\n",
       "      <td>44.0</td>\n",
       "    </tr>\n",
       "    <tr>\n",
       "      <th>6</th>\n",
       "      <td>1002</td>\n",
       "      <td>Carlee</td>\n",
       "      <td>Hoffman</td>\n",
       "      <td>36</td>\n",
       "      <td>Las Vegas-Henderson-Paradise, NV MSA</td>\n",
       "      <td>2018-10-21</td>\n",
       "      <td>surf</td>\n",
       "      <td>Activo</td>\n",
       "      <td>10.0</td>\n",
       "      <td>15.0</td>\n",
       "    </tr>\n",
       "    <tr>\n",
       "      <th>7</th>\n",
       "      <td>1002</td>\n",
       "      <td>Carlee</td>\n",
       "      <td>Hoffman</td>\n",
       "      <td>36</td>\n",
       "      <td>Las Vegas-Henderson-Paradise, NV MSA</td>\n",
       "      <td>2018-10-21</td>\n",
       "      <td>surf</td>\n",
       "      <td>Activo</td>\n",
       "      <td>11.0</td>\n",
       "      <td>32.0</td>\n",
       "    </tr>\n",
       "    <tr>\n",
       "      <th>8</th>\n",
       "      <td>1002</td>\n",
       "      <td>Carlee</td>\n",
       "      <td>Hoffman</td>\n",
       "      <td>36</td>\n",
       "      <td>Las Vegas-Henderson-Paradise, NV MSA</td>\n",
       "      <td>2018-10-21</td>\n",
       "      <td>surf</td>\n",
       "      <td>Activo</td>\n",
       "      <td>12.0</td>\n",
       "      <td>41.0</td>\n",
       "    </tr>\n",
       "    <tr>\n",
       "      <th>9</th>\n",
       "      <td>1003</td>\n",
       "      <td>Reynaldo</td>\n",
       "      <td>Jenkins</td>\n",
       "      <td>52</td>\n",
       "      <td>Tulsa, OK MSA</td>\n",
       "      <td>2018-01-28</td>\n",
       "      <td>surf</td>\n",
       "      <td>Activo</td>\n",
       "      <td>12.0</td>\n",
       "      <td>50.0</td>\n",
       "    </tr>\n",
       "  </tbody>\n",
       "</table>\n",
       "</div>"
      ],
      "text/plain": [
       "   user_id first_name  last_name  age                                   city  \\\n",
       "0     1000   Anamaria      Bauer   45  Atlanta-Sandy Springs-Roswell, GA MSA   \n",
       "1     1001     Mickey  Wilkerson   28        Seattle-Tacoma-Bellevue, WA MSA   \n",
       "2     1001     Mickey  Wilkerson   28        Seattle-Tacoma-Bellevue, WA MSA   \n",
       "3     1001     Mickey  Wilkerson   28        Seattle-Tacoma-Bellevue, WA MSA   \n",
       "4     1001     Mickey  Wilkerson   28        Seattle-Tacoma-Bellevue, WA MSA   \n",
       "5     1001     Mickey  Wilkerson   28        Seattle-Tacoma-Bellevue, WA MSA   \n",
       "6     1002     Carlee    Hoffman   36   Las Vegas-Henderson-Paradise, NV MSA   \n",
       "7     1002     Carlee    Hoffman   36   Las Vegas-Henderson-Paradise, NV MSA   \n",
       "8     1002     Carlee    Hoffman   36   Las Vegas-Henderson-Paradise, NV MSA   \n",
       "9     1003   Reynaldo    Jenkins   52                          Tulsa, OK MSA   \n",
       "\n",
       "    reg_date      plan churn_date  message_month  message_count  \n",
       "0 2018-12-24  ultimate     Activo           12.0           11.0  \n",
       "1 2018-08-13      surf     Activo            8.0           30.0  \n",
       "2 2018-08-13      surf     Activo            9.0           44.0  \n",
       "3 2018-08-13      surf     Activo           10.0           53.0  \n",
       "4 2018-08-13      surf     Activo           11.0           36.0  \n",
       "5 2018-08-13      surf     Activo           12.0           44.0  \n",
       "6 2018-10-21      surf     Activo           10.0           15.0  \n",
       "7 2018-10-21      surf     Activo           11.0           32.0  \n",
       "8 2018-10-21      surf     Activo           12.0           41.0  \n",
       "9 2018-01-28      surf     Activo           12.0           50.0  "
      ]
     },
     "metadata": {},
     "output_type": "display_data"
    }
   ],
   "source": [
    "# Calcula el número de mensajes enviados por cada usuario al mes. \n",
    "# Creamos una nueva columna en 'df_messages' que contenga el mes de cada mensaje:\n",
    "df_messages['message_month'] = df_messages['message_date'].dt.month\n",
    "\n",
    "# Calculamos la cantidad total de mensajes enviados por cada usuario al mes. Agrupar los datos por 'user_id' y 'messege_month' y usar la función size() para contar los mensajes\n",
    "messages_per_month = df_messages.groupby(['user_id','message_month']).size().reset_index(name='message_count')\n",
    "\n",
    "# Unimos información de datos de usuarios combinando 'messages_per_month' con 'df_users' \n",
    "user_messages_per_month= df_users.merge(messages_per_month, on='user_id', how='left')\n",
    "\n",
    "# Visualizamos\n",
    "display (user_messages_per_month.head(10))\n"
   ]
  },
  {
   "cell_type": "code",
   "execution_count": 28,
   "metadata": {
    "id": "H1AqN2eG0q1H"
   },
   "outputs": [
    {
     "data": {
      "text/html": [
       "<div>\n",
       "<style scoped>\n",
       "    .dataframe tbody tr th:only-of-type {\n",
       "        vertical-align: middle;\n",
       "    }\n",
       "\n",
       "    .dataframe tbody tr th {\n",
       "        vertical-align: top;\n",
       "    }\n",
       "\n",
       "    .dataframe thead th {\n",
       "        text-align: right;\n",
       "    }\n",
       "</style>\n",
       "<table border=\"1\" class=\"dataframe\">\n",
       "  <thead>\n",
       "    <tr style=\"text-align: right;\">\n",
       "      <th></th>\n",
       "      <th>user_id</th>\n",
       "      <th>session_month</th>\n",
       "      <th>total_mb_used</th>\n",
       "    </tr>\n",
       "  </thead>\n",
       "  <tbody>\n",
       "    <tr>\n",
       "      <th>0</th>\n",
       "      <td>1000</td>\n",
       "      <td>12</td>\n",
       "      <td>1901.47</td>\n",
       "    </tr>\n",
       "    <tr>\n",
       "      <th>1</th>\n",
       "      <td>1001</td>\n",
       "      <td>8</td>\n",
       "      <td>6919.15</td>\n",
       "    </tr>\n",
       "    <tr>\n",
       "      <th>2</th>\n",
       "      <td>1001</td>\n",
       "      <td>9</td>\n",
       "      <td>13314.82</td>\n",
       "    </tr>\n",
       "    <tr>\n",
       "      <th>3</th>\n",
       "      <td>1001</td>\n",
       "      <td>10</td>\n",
       "      <td>22330.49</td>\n",
       "    </tr>\n",
       "    <tr>\n",
       "      <th>4</th>\n",
       "      <td>1001</td>\n",
       "      <td>11</td>\n",
       "      <td>18504.30</td>\n",
       "    </tr>\n",
       "  </tbody>\n",
       "</table>\n",
       "</div>"
      ],
      "text/plain": [
       "   user_id  session_month  total_mb_used\n",
       "0     1000             12        1901.47\n",
       "1     1001              8        6919.15\n",
       "2     1001              9       13314.82\n",
       "3     1001             10       22330.49\n",
       "4     1001             11       18504.30"
      ]
     },
     "metadata": {},
     "output_type": "display_data"
    }
   ],
   "source": [
    "# Calcula el volumen del tráfico de Internet usado por cada usuario al mes. Guarda el resultado.\n",
    "\n",
    "df_internet['session_month'] = df_internet['session_date'].dt.month\n",
    "\n",
    "internet_traffic_per_month = df_internet.groupby(['user_id','session_month'])['mb_used'].sum().reset_index(name='total_mb_used')\n",
    "\n",
    "display(internet_traffic_per_month.head())"
   ]
  },
  {
   "cell_type": "markdown",
   "metadata": {
    "id": "VDfYXnj80q1H"
   },
   "source": [
    "\n",
    "Las tablas anteriores nos permite tener un panorama general de los mensajes acumulados y mb usados por cada mes, se realizó el acumulado mes teniendo en cuenta el usuario según ubicación. Esos valores nos servirá más adelante para poder tomar decisiones mediante gráficas y análisis estadísticos\n"
   ]
  },
  {
   "cell_type": "code",
   "execution_count": 29,
   "metadata": {
    "id": "FW99ykyf0q1H"
   },
   "outputs": [
    {
     "data": {
      "text/html": [
       "<div>\n",
       "<style scoped>\n",
       "    .dataframe tbody tr th:only-of-type {\n",
       "        vertical-align: middle;\n",
       "    }\n",
       "\n",
       "    .dataframe tbody tr th {\n",
       "        vertical-align: top;\n",
       "    }\n",
       "\n",
       "    .dataframe thead th {\n",
       "        text-align: right;\n",
       "    }\n",
       "</style>\n",
       "<table border=\"1\" class=\"dataframe\">\n",
       "  <thead>\n",
       "    <tr style=\"text-align: right;\">\n",
       "      <th></th>\n",
       "      <th>user_id</th>\n",
       "      <th>first_name</th>\n",
       "      <th>last_name</th>\n",
       "      <th>age</th>\n",
       "      <th>city</th>\n",
       "      <th>reg_date</th>\n",
       "      <th>plan</th>\n",
       "      <th>churn_date</th>\n",
       "      <th>call_month</th>\n",
       "      <th>call_count</th>\n",
       "      <th>message_count</th>\n",
       "      <th>total_minutes</th>\n",
       "      <th>total_mb_used</th>\n",
       "    </tr>\n",
       "  </thead>\n",
       "  <tbody>\n",
       "    <tr>\n",
       "      <th>0</th>\n",
       "      <td>1000</td>\n",
       "      <td>Anamaria</td>\n",
       "      <td>Bauer</td>\n",
       "      <td>45</td>\n",
       "      <td>Atlanta-Sandy Springs-Roswell, GA MSA</td>\n",
       "      <td>2018-12-24</td>\n",
       "      <td>ultimate</td>\n",
       "      <td>Activo</td>\n",
       "      <td>12.0</td>\n",
       "      <td>16.0</td>\n",
       "      <td>11.0</td>\n",
       "      <td>124.0</td>\n",
       "      <td>1901.47</td>\n",
       "    </tr>\n",
       "    <tr>\n",
       "      <th>1</th>\n",
       "      <td>1001</td>\n",
       "      <td>Mickey</td>\n",
       "      <td>Wilkerson</td>\n",
       "      <td>28</td>\n",
       "      <td>Seattle-Tacoma-Bellevue, WA MSA</td>\n",
       "      <td>2018-08-13</td>\n",
       "      <td>surf</td>\n",
       "      <td>Activo</td>\n",
       "      <td>8.0</td>\n",
       "      <td>22.0</td>\n",
       "      <td>30.0</td>\n",
       "      <td>182.0</td>\n",
       "      <td>6919.15</td>\n",
       "    </tr>\n",
       "    <tr>\n",
       "      <th>2</th>\n",
       "      <td>1001</td>\n",
       "      <td>Mickey</td>\n",
       "      <td>Wilkerson</td>\n",
       "      <td>28</td>\n",
       "      <td>Seattle-Tacoma-Bellevue, WA MSA</td>\n",
       "      <td>2018-08-13</td>\n",
       "      <td>surf</td>\n",
       "      <td>Activo</td>\n",
       "      <td>8.0</td>\n",
       "      <td>22.0</td>\n",
       "      <td>30.0</td>\n",
       "      <td>182.0</td>\n",
       "      <td>13314.82</td>\n",
       "    </tr>\n",
       "    <tr>\n",
       "      <th>3</th>\n",
       "      <td>1001</td>\n",
       "      <td>Mickey</td>\n",
       "      <td>Wilkerson</td>\n",
       "      <td>28</td>\n",
       "      <td>Seattle-Tacoma-Bellevue, WA MSA</td>\n",
       "      <td>2018-08-13</td>\n",
       "      <td>surf</td>\n",
       "      <td>Activo</td>\n",
       "      <td>8.0</td>\n",
       "      <td>22.0</td>\n",
       "      <td>30.0</td>\n",
       "      <td>182.0</td>\n",
       "      <td>22330.49</td>\n",
       "    </tr>\n",
       "    <tr>\n",
       "      <th>4</th>\n",
       "      <td>1001</td>\n",
       "      <td>Mickey</td>\n",
       "      <td>Wilkerson</td>\n",
       "      <td>28</td>\n",
       "      <td>Seattle-Tacoma-Bellevue, WA MSA</td>\n",
       "      <td>2018-08-13</td>\n",
       "      <td>surf</td>\n",
       "      <td>Activo</td>\n",
       "      <td>8.0</td>\n",
       "      <td>22.0</td>\n",
       "      <td>30.0</td>\n",
       "      <td>182.0</td>\n",
       "      <td>18504.30</td>\n",
       "    </tr>\n",
       "  </tbody>\n",
       "</table>\n",
       "</div>"
      ],
      "text/plain": [
       "   user_id first_name  last_name  age                                   city  \\\n",
       "0     1000   Anamaria      Bauer   45  Atlanta-Sandy Springs-Roswell, GA MSA   \n",
       "1     1001     Mickey  Wilkerson   28        Seattle-Tacoma-Bellevue, WA MSA   \n",
       "2     1001     Mickey  Wilkerson   28        Seattle-Tacoma-Bellevue, WA MSA   \n",
       "3     1001     Mickey  Wilkerson   28        Seattle-Tacoma-Bellevue, WA MSA   \n",
       "4     1001     Mickey  Wilkerson   28        Seattle-Tacoma-Bellevue, WA MSA   \n",
       "\n",
       "    reg_date      plan churn_date  call_month  call_count  message_count  \\\n",
       "0 2018-12-24  ultimate     Activo        12.0        16.0           11.0   \n",
       "1 2018-08-13      surf     Activo         8.0        22.0           30.0   \n",
       "2 2018-08-13      surf     Activo         8.0        22.0           30.0   \n",
       "3 2018-08-13      surf     Activo         8.0        22.0           30.0   \n",
       "4 2018-08-13      surf     Activo         8.0        22.0           30.0   \n",
       "\n",
       "   total_minutes  total_mb_used  \n",
       "0          124.0        1901.47  \n",
       "1          182.0        6919.15  \n",
       "2          182.0       13314.82  \n",
       "3          182.0       22330.49  \n",
       "4          182.0       18504.30  "
      ]
     },
     "metadata": {},
     "output_type": "display_data"
    }
   ],
   "source": [
    "# Fusiona los datos de llamadas, minutos, mensajes e Internet con base en user_id y month\n",
    "\n",
    "user_combined = user_calls_per_month.merge(user_messages_per_month[['user_id', 'message_count']], on='user_id', how='left')\n",
    "user_combined = user_combined.merge(user_minutes_per_month[['user_id','total_minutes']], on= 'user_id', how = 'left') \n",
    "user_combined = user_combined.merge(internet_traffic_per_month[['user_id', 'total_mb_used']], on='user_id', how='left')\n",
    "display(user_combined.head())"
   ]
  },
  {
   "cell_type": "code",
   "execution_count": 30,
   "metadata": {
    "id": "0dNOXHag0q1H"
   },
   "outputs": [
    {
     "data": {
      "text/html": [
       "<div>\n",
       "<style scoped>\n",
       "    .dataframe tbody tr th:only-of-type {\n",
       "        vertical-align: middle;\n",
       "    }\n",
       "\n",
       "    .dataframe tbody tr th {\n",
       "        vertical-align: top;\n",
       "    }\n",
       "\n",
       "    .dataframe thead th {\n",
       "        text-align: right;\n",
       "    }\n",
       "</style>\n",
       "<table border=\"1\" class=\"dataframe\">\n",
       "  <thead>\n",
       "    <tr style=\"text-align: right;\">\n",
       "      <th></th>\n",
       "      <th>user_id</th>\n",
       "      <th>call_month</th>\n",
       "      <th>call_count</th>\n",
       "      <th>total_minutes</th>\n",
       "      <th>message_count</th>\n",
       "      <th>total_gb_used</th>\n",
       "    </tr>\n",
       "  </thead>\n",
       "  <tbody>\n",
       "    <tr>\n",
       "      <th>0</th>\n",
       "      <td>1000</td>\n",
       "      <td>12.0</td>\n",
       "      <td>16.0</td>\n",
       "      <td>124.0</td>\n",
       "      <td>11.0</td>\n",
       "      <td>1.856904</td>\n",
       "    </tr>\n",
       "    <tr>\n",
       "      <th>1</th>\n",
       "      <td>1001</td>\n",
       "      <td>8.0</td>\n",
       "      <td>2750.0</td>\n",
       "      <td>43200.0</td>\n",
       "      <td>5175.0</td>\n",
       "      <td>1963.816895</td>\n",
       "    </tr>\n",
       "    <tr>\n",
       "      <th>2</th>\n",
       "      <td>1001</td>\n",
       "      <td>9.0</td>\n",
       "      <td>4750.0</td>\n",
       "      <td>43200.0</td>\n",
       "      <td>5175.0</td>\n",
       "      <td>1963.816895</td>\n",
       "    </tr>\n",
       "    <tr>\n",
       "      <th>3</th>\n",
       "      <td>1001</td>\n",
       "      <td>10.0</td>\n",
       "      <td>5875.0</td>\n",
       "      <td>43200.0</td>\n",
       "      <td>5175.0</td>\n",
       "      <td>1963.816895</td>\n",
       "    </tr>\n",
       "    <tr>\n",
       "      <th>4</th>\n",
       "      <td>1001</td>\n",
       "      <td>11.0</td>\n",
       "      <td>6125.0</td>\n",
       "      <td>43200.0</td>\n",
       "      <td>5175.0</td>\n",
       "      <td>1963.816895</td>\n",
       "    </tr>\n",
       "    <tr>\n",
       "      <th>5</th>\n",
       "      <td>1001</td>\n",
       "      <td>12.0</td>\n",
       "      <td>5750.0</td>\n",
       "      <td>43200.0</td>\n",
       "      <td>5175.0</td>\n",
       "      <td>1963.816895</td>\n",
       "    </tr>\n",
       "    <tr>\n",
       "      <th>6</th>\n",
       "      <td>1002</td>\n",
       "      <td>10.0</td>\n",
       "      <td>216.0</td>\n",
       "      <td>7461.0</td>\n",
       "      <td>792.0</td>\n",
       "      <td>354.140596</td>\n",
       "    </tr>\n",
       "    <tr>\n",
       "      <th>7</th>\n",
       "      <td>1002</td>\n",
       "      <td>11.0</td>\n",
       "      <td>1296.0</td>\n",
       "      <td>7461.0</td>\n",
       "      <td>792.0</td>\n",
       "      <td>354.140596</td>\n",
       "    </tr>\n",
       "    <tr>\n",
       "      <th>8</th>\n",
       "      <td>1002</td>\n",
       "      <td>12.0</td>\n",
       "      <td>1026.0</td>\n",
       "      <td>7461.0</td>\n",
       "      <td>792.0</td>\n",
       "      <td>354.140596</td>\n",
       "    </tr>\n",
       "    <tr>\n",
       "      <th>9</th>\n",
       "      <td>1003</td>\n",
       "      <td>12.0</td>\n",
       "      <td>118.0</td>\n",
       "      <td>1104.0</td>\n",
       "      <td>50.0</td>\n",
       "      <td>26.410293</td>\n",
       "    </tr>\n",
       "    <tr>\n",
       "      <th>10</th>\n",
       "      <td>1004</td>\n",
       "      <td>5.0</td>\n",
       "      <td>9728.0</td>\n",
       "      <td>177344.0</td>\n",
       "      <td>11328.0</td>\n",
       "      <td>9772.050625</td>\n",
       "    </tr>\n",
       "    <tr>\n",
       "      <th>11</th>\n",
       "      <td>1004</td>\n",
       "      <td>6.0</td>\n",
       "      <td>16896.0</td>\n",
       "      <td>177344.0</td>\n",
       "      <td>11328.0</td>\n",
       "      <td>9772.050625</td>\n",
       "    </tr>\n",
       "  </tbody>\n",
       "</table>\n",
       "</div>"
      ],
      "text/plain": [
       "    user_id  call_month  call_count  total_minutes  message_count  \\\n",
       "0      1000        12.0        16.0          124.0           11.0   \n",
       "1      1001         8.0      2750.0        43200.0         5175.0   \n",
       "2      1001         9.0      4750.0        43200.0         5175.0   \n",
       "3      1001        10.0      5875.0        43200.0         5175.0   \n",
       "4      1001        11.0      6125.0        43200.0         5175.0   \n",
       "5      1001        12.0      5750.0        43200.0         5175.0   \n",
       "6      1002        10.0       216.0         7461.0          792.0   \n",
       "7      1002        11.0      1296.0         7461.0          792.0   \n",
       "8      1002        12.0      1026.0         7461.0          792.0   \n",
       "9      1003        12.0       118.0         1104.0           50.0   \n",
       "10     1004         5.0      9728.0       177344.0        11328.0   \n",
       "11     1004         6.0     16896.0       177344.0        11328.0   \n",
       "\n",
       "    total_gb_used  \n",
       "0        1.856904  \n",
       "1     1963.816895  \n",
       "2     1963.816895  \n",
       "3     1963.816895  \n",
       "4     1963.816895  \n",
       "5     1963.816895  \n",
       "6      354.140596  \n",
       "7      354.140596  \n",
       "8      354.140596  \n",
       "9       26.410293  \n",
       "10    9772.050625  \n",
       "11    9772.050625  "
      ]
     },
     "metadata": {},
     "output_type": "display_data"
    }
   ],
   "source": [
    "# Añade la información de la tarifa\n",
    "user_combined_with_plan = user_combined.merge(df_plans, left_on='plan', right_on='plan_name', how='left')\n",
    "\n",
    "user_combined_with_plan['total_gb_used'] = user_combined_with_plan['total_mb_used'] / 1024\n",
    "\n",
    "grouped_data = user_combined_with_plan.groupby(['user_id', 'call_month']).agg({\n",
    "    'call_count': 'sum',\n",
    "    'total_minutes': 'sum',\n",
    "    'message_count':'sum',\n",
    "    'total_gb_used': 'sum',\n",
    "\n",
    "}).reset_index()\n",
    "\n",
    "#user_combined_with_plan = user_combined.merge(df_users[['user_id', 'plan']], on='user_id', how='left')\n",
    "#display(user_combined_with_plan[['user_id','first_name','last_name','call_month','call_count','message_count','total_minutes','total_mb_used']].head())\n",
    "display(grouped_data.head(12))"
   ]
  },
  {
   "cell_type": "markdown",
   "metadata": {
    "id": "1IwGo4wg0q1I"
   },
   "source": [
    "\n",
    "\n",
    "Cada usuario tiene un consumo total de llamadas, mensajes, minutos, y gb utilizado por cada mes, es muy parecido. Esto crea una tendencia que más adelante podremos analizar \n",
    "    "
   ]
  },
  {
   "cell_type": "code",
   "execution_count": 31,
   "metadata": {
    "id": "5FGCf_c60q1I"
   },
   "outputs": [
    {
     "data": {
      "text/html": [
       "<div>\n",
       "<style scoped>\n",
       "    .dataframe tbody tr th:only-of-type {\n",
       "        vertical-align: middle;\n",
       "    }\n",
       "\n",
       "    .dataframe tbody tr th {\n",
       "        vertical-align: top;\n",
       "    }\n",
       "\n",
       "    .dataframe thead th {\n",
       "        text-align: right;\n",
       "    }\n",
       "</style>\n",
       "<table border=\"1\" class=\"dataframe\">\n",
       "  <thead>\n",
       "    <tr style=\"text-align: right;\">\n",
       "      <th></th>\n",
       "      <th>user_id</th>\n",
       "      <th>first_name</th>\n",
       "      <th>last_name</th>\n",
       "      <th>plan_name</th>\n",
       "      <th>total_charges</th>\n",
       "    </tr>\n",
       "  </thead>\n",
       "  <tbody>\n",
       "    <tr>\n",
       "      <th>0</th>\n",
       "      <td>1000</td>\n",
       "      <td>Anamaria</td>\n",
       "      <td>Bauer</td>\n",
       "      <td>ultimate</td>\n",
       "      <td>13327.561670</td>\n",
       "    </tr>\n",
       "    <tr>\n",
       "      <th>1</th>\n",
       "      <td>1001</td>\n",
       "      <td>Mickey</td>\n",
       "      <td>Wilkerson</td>\n",
       "      <td>surf</td>\n",
       "      <td>69128.990176</td>\n",
       "    </tr>\n",
       "    <tr>\n",
       "      <th>2</th>\n",
       "      <td>1001</td>\n",
       "      <td>Mickey</td>\n",
       "      <td>Wilkerson</td>\n",
       "      <td>surf</td>\n",
       "      <td>133023.232461</td>\n",
       "    </tr>\n",
       "    <tr>\n",
       "      <th>3</th>\n",
       "      <td>1001</td>\n",
       "      <td>Mickey</td>\n",
       "      <td>Wilkerson</td>\n",
       "      <td>surf</td>\n",
       "      <td>223091.888809</td>\n",
       "    </tr>\n",
       "    <tr>\n",
       "      <th>4</th>\n",
       "      <td>1001</td>\n",
       "      <td>Mickey</td>\n",
       "      <td>Wilkerson</td>\n",
       "      <td>surf</td>\n",
       "      <td>184867.353945</td>\n",
       "    </tr>\n",
       "    <tr>\n",
       "      <th>5</th>\n",
       "      <td>1001</td>\n",
       "      <td>Mickey</td>\n",
       "      <td>Wilkerson</td>\n",
       "      <td>surf</td>\n",
       "      <td>193507.707852</td>\n",
       "    </tr>\n",
       "    <tr>\n",
       "      <th>6</th>\n",
       "      <td>1001</td>\n",
       "      <td>Mickey</td>\n",
       "      <td>Wilkerson</td>\n",
       "      <td>surf</td>\n",
       "      <td>69128.990176</td>\n",
       "    </tr>\n",
       "    <tr>\n",
       "      <th>7</th>\n",
       "      <td>1001</td>\n",
       "      <td>Mickey</td>\n",
       "      <td>Wilkerson</td>\n",
       "      <td>surf</td>\n",
       "      <td>133023.232461</td>\n",
       "    </tr>\n",
       "    <tr>\n",
       "      <th>8</th>\n",
       "      <td>1001</td>\n",
       "      <td>Mickey</td>\n",
       "      <td>Wilkerson</td>\n",
       "      <td>surf</td>\n",
       "      <td>223091.888809</td>\n",
       "    </tr>\n",
       "    <tr>\n",
       "      <th>9</th>\n",
       "      <td>1001</td>\n",
       "      <td>Mickey</td>\n",
       "      <td>Wilkerson</td>\n",
       "      <td>surf</td>\n",
       "      <td>184867.353945</td>\n",
       "    </tr>\n",
       "  </tbody>\n",
       "</table>\n",
       "</div>"
      ],
      "text/plain": [
       "   user_id first_name  last_name plan_name  total_charges\n",
       "0     1000   Anamaria      Bauer  ultimate   13327.561670\n",
       "1     1001     Mickey  Wilkerson      surf   69128.990176\n",
       "2     1001     Mickey  Wilkerson      surf  133023.232461\n",
       "3     1001     Mickey  Wilkerson      surf  223091.888809\n",
       "4     1001     Mickey  Wilkerson      surf  184867.353945\n",
       "5     1001     Mickey  Wilkerson      surf  193507.707852\n",
       "6     1001     Mickey  Wilkerson      surf   69128.990176\n",
       "7     1001     Mickey  Wilkerson      surf  133023.232461\n",
       "8     1001     Mickey  Wilkerson      surf  223091.888809\n",
       "9     1001     Mickey  Wilkerson      surf  184867.353945"
      ]
     },
     "metadata": {},
     "output_type": "display_data"
    },
    {
     "data": {
      "text/html": [
       "<div>\n",
       "<style scoped>\n",
       "    .dataframe tbody tr th:only-of-type {\n",
       "        vertical-align: middle;\n",
       "    }\n",
       "\n",
       "    .dataframe tbody tr th {\n",
       "        vertical-align: top;\n",
       "    }\n",
       "\n",
       "    .dataframe thead th {\n",
       "        text-align: right;\n",
       "    }\n",
       "</style>\n",
       "<table border=\"1\" class=\"dataframe\">\n",
       "  <thead>\n",
       "    <tr style=\"text-align: right;\">\n",
       "      <th></th>\n",
       "      <th>call_count</th>\n",
       "      <th>total_minutes</th>\n",
       "      <th>total_mb_used</th>\n",
       "      <th>message_count</th>\n",
       "      <th>total_charges</th>\n",
       "    </tr>\n",
       "  </thead>\n",
       "  <tbody>\n",
       "    <tr>\n",
       "      <th>0</th>\n",
       "      <td>16.0</td>\n",
       "      <td>124.0</td>\n",
       "      <td>1901.47</td>\n",
       "      <td>11.0</td>\n",
       "      <td>13327.561670</td>\n",
       "    </tr>\n",
       "    <tr>\n",
       "      <th>1</th>\n",
       "      <td>22.0</td>\n",
       "      <td>182.0</td>\n",
       "      <td>6919.15</td>\n",
       "      <td>30.0</td>\n",
       "      <td>69128.990176</td>\n",
       "    </tr>\n",
       "    <tr>\n",
       "      <th>2</th>\n",
       "      <td>22.0</td>\n",
       "      <td>182.0</td>\n",
       "      <td>13314.82</td>\n",
       "      <td>30.0</td>\n",
       "      <td>133023.232461</td>\n",
       "    </tr>\n",
       "    <tr>\n",
       "      <th>3</th>\n",
       "      <td>22.0</td>\n",
       "      <td>182.0</td>\n",
       "      <td>22330.49</td>\n",
       "      <td>30.0</td>\n",
       "      <td>223091.888809</td>\n",
       "    </tr>\n",
       "    <tr>\n",
       "      <th>4</th>\n",
       "      <td>22.0</td>\n",
       "      <td>182.0</td>\n",
       "      <td>18504.30</td>\n",
       "      <td>30.0</td>\n",
       "      <td>184867.353945</td>\n",
       "    </tr>\n",
       "    <tr>\n",
       "      <th>5</th>\n",
       "      <td>22.0</td>\n",
       "      <td>182.0</td>\n",
       "      <td>19369.18</td>\n",
       "      <td>30.0</td>\n",
       "      <td>193507.707852</td>\n",
       "    </tr>\n",
       "    <tr>\n",
       "      <th>6</th>\n",
       "      <td>22.0</td>\n",
       "      <td>315.0</td>\n",
       "      <td>6919.15</td>\n",
       "      <td>30.0</td>\n",
       "      <td>69128.990176</td>\n",
       "    </tr>\n",
       "    <tr>\n",
       "      <th>7</th>\n",
       "      <td>22.0</td>\n",
       "      <td>315.0</td>\n",
       "      <td>13314.82</td>\n",
       "      <td>30.0</td>\n",
       "      <td>133023.232461</td>\n",
       "    </tr>\n",
       "    <tr>\n",
       "      <th>8</th>\n",
       "      <td>22.0</td>\n",
       "      <td>315.0</td>\n",
       "      <td>22330.49</td>\n",
       "      <td>30.0</td>\n",
       "      <td>223091.888809</td>\n",
       "    </tr>\n",
       "    <tr>\n",
       "      <th>9</th>\n",
       "      <td>22.0</td>\n",
       "      <td>315.0</td>\n",
       "      <td>18504.30</td>\n",
       "      <td>30.0</td>\n",
       "      <td>184867.353945</td>\n",
       "    </tr>\n",
       "  </tbody>\n",
       "</table>\n",
       "</div>"
      ],
      "text/plain": [
       "   call_count  total_minutes  total_mb_used  message_count  total_charges\n",
       "0        16.0          124.0        1901.47           11.0   13327.561670\n",
       "1        22.0          182.0        6919.15           30.0   69128.990176\n",
       "2        22.0          182.0       13314.82           30.0  133023.232461\n",
       "3        22.0          182.0       22330.49           30.0  223091.888809\n",
       "4        22.0          182.0       18504.30           30.0  184867.353945\n",
       "5        22.0          182.0       19369.18           30.0  193507.707852\n",
       "6        22.0          315.0        6919.15           30.0   69128.990176\n",
       "7        22.0          315.0       13314.82           30.0  133023.232461\n",
       "8        22.0          315.0       22330.49           30.0  223091.888809\n",
       "9        22.0          315.0       18504.30           30.0  184867.353945"
      ]
     },
     "metadata": {},
     "output_type": "display_data"
    }
   ],
   "source": [
    "# Calcula el ingreso mensual para cada usuario\n",
    "\n",
    "# Calculamos costo por llamadas, mensajes y datos que exceden los límites del paquete gratuito para cada usuario y mes.\n",
    "user_combined_with_plan['call_charges'] = (user_combined_with_plan['call_count'] - user_combined_with_plan['minutes_included']) * user_combined_with_plan['usd_per_minute']\n",
    "user_combined_with_plan['message_charges'] = (user_combined_with_plan['message_count'] - user_combined_with_plan['messages_included']) * user_combined_with_plan['usd_per_message']\n",
    "user_combined_with_plan['data_charges'] = ((user_combined_with_plan['total_mb_used'] - user_combined_with_plan['total_gb_used'])) * user_combined_with_plan['usd_per_gb']\n",
    "\n",
    "# Creamos una columna donde se evidencie el monto total por cada usuario según consumo mensual.\n",
    "user_combined_with_plan['total_charges'] = user_combined_with_plan['call_charges'] + user_combined_with_plan['message_charges'] + user_combined_with_plan['data_charges'] + user_combined_with_plan['usd_monthly_pay']\n",
    "\n",
    "display(user_combined_with_plan[['user_id','first_name','last_name', 'plan_name','total_charges']].head(10))\n",
    "\n",
    "display(user_combined_with_plan[['call_count','total_minutes','total_mb_used', 'message_count', 'total_charges']].head(10))\n",
    "\n"
   ]
  },
  {
   "cell_type": "markdown",
   "metadata": {},
   "source": [
    "\n",
    "Este cuadro nos permite resumir los ingresos mensuales por usuario , los resultados nos da un alcance de como cada usuario fue consumiendo mensualemente por tipo de plan.\n",
    "    \n"
   ]
  },
  {
   "cell_type": "markdown",
   "metadata": {},
   "source": [
    "<div class=\"alert alert-block alert-danger\">\n",
    "    <b>Comentario del revisor</b> <a class=\"tocSkip\"></a>\n",
    "\n",
    "~~Sería interesante que se generarán conclusiones intermedias de esta sección, comentando la lógica de cada cruce  y así mismo se pudiera mostrar las dimensiones de salida de las diferentes tablas para entender de mejor manera los resultados de relaciones entre dataframes.~~\n",
    "</div>"
   ]
  },
  {
   "cell_type": "markdown",
   "metadata": {},
   "source": [
    "<div class=\"alert alert-block alert-success\">\n",
    "    <b>Comentario del revisor #3</b> <a class=\"tocSkip\"></a>\n",
    "    \n",
    "Perfecto, buen trabajo.\n",
    "</div>"
   ]
  },
  {
   "cell_type": "markdown",
   "metadata": {
    "id": "-jtyHzJb0q1I"
   },
   "source": [
    "## Estudia el comportamiento de usuario"
   ]
  },
  {
   "cell_type": "markdown",
   "metadata": {
    "id": "vtW4CJEe0q1J"
   },
   "source": [
    "### Llamadas"
   ]
  },
  {
   "cell_type": "code",
   "execution_count": 32,
   "metadata": {
    "id": "Jf5v5--k0q1J",
    "scrolled": true
   },
   "outputs": [
    {
     "data": {
      "image/png": "[encoded data removed]",
      "text/plain": [
       "<Figure size 864x432 with 1 Axes>"
      ]
     },
     "metadata": {
      "needs_background": "light"
     },
     "output_type": "display_data"
    }
   ],
   "source": [
    "# Calcular la duración promedio de llamadas por plan y por cada mes:\n",
    "# Filtrar el DataFrame original para obtener solo las columnas necesarias\n",
    "average_duration_per_plan_month = user_combined_with_plan.groupby(['plan_name', df_calls['call_date'].dt.month])['total_minutes'].mean().reset_index(name='average_duration')\n",
    "\n",
    "\n",
    "\n",
    "# Filtrar el DataFrame para cada plan\n",
    "surf_data = average_duration_per_plan_month[average_duration_per_plan_month['plan_name'] == 'surf']\n",
    "ultimate_data = average_duration_per_plan_month[average_duration_per_plan_month['plan_name'] == 'ultimate']\n",
    "\n",
    "# Crear una figura y ejes para el gráfico\n",
    "fig, ax = plt.subplots(figsize=(12, 6))\n",
    "\n",
    "# Crear barras para 'surf'\n",
    "ax.bar(surf_data['call_date'], surf_data['average_duration'], width=0.4, label='surf', align='center')\n",
    "\n",
    "# Desplazar las barras de 'ultimate' ligeramente hacia la derecha\n",
    "ax.bar(ultimate_data['call_date'] + 0.4, ultimate_data['average_duration'], width=0.4, label='ultimate', align='center')\n",
    "\n",
    "# Configurar etiquetas y leyenda\n",
    "ax.set_xlabel('Mes')\n",
    "ax.set_ylabel('Duración Promedio de Llamadas (minutos)')\n",
    "ax.set_title('Duración Promedio de Llamadas por Plan y Mes')\n",
    "ax.set_xticks(average_duration_per_plan_month['call_date'])\n",
    "ax.set_xticklabels(average_duration_per_plan_month['call_date'].astype(int))\n",
    "ax.legend()\n",
    "\n",
    "# Mostrar el gráfico\n",
    "plt.show()\n",
    "#print(average_duration_per_plan_month.head(24))\n"
   ]
  },
  {
   "cell_type": "markdown",
   "metadata": {},
   "source": [
    "Podemos concluir mediante el gráfico mensual por llamadas que los usuarios del plan 'ultimate' realizaron menos llamadas como iba continuando el año, en resumen tiene un tendrencia negativa hasta el mes de mayo, luego en el mes de setiembre se ve una leve alza que se mantuvo hasta diciembre. \n",
    "\n",
    "Con respecto a los promedios de llamadas por usuarios del plan 'surf' se evidencia tendencia positiva por cada mes.\n",
    "    \n",
    "Pero en general podemos ver que en promedio los usuarios del plan 'ultimate' realizaron más llamadas que los usuarios del plan 'surf'.\n"
   ]
  },
  {
   "cell_type": "code",
   "execution_count": 33,
   "metadata": {
    "id": "QoLqW1S_0q1J"
   },
   "outputs": [
    {
     "data": {
      "image/png": "[encoded data removed]",
      "text/plain": [
       "<Figure size 720x432 with 1 Axes>"
      ]
     },
     "metadata": {
      "needs_background": "light"
     },
     "output_type": "display_data"
    }
   ],
   "source": [
    "# Compara el número de minutos mensuales que necesitan los usuarios de cada plan. Traza un histograma.\n",
    "\n",
    "\n",
    "# Filtrar el DataFrame original para obtener solo las columnas necesarias\n",
    "surf_minutes = user_combined_with_plan[user_combined_with_plan['plan_name'] == 'surf']['total_minutes']\n",
    "ultimate_minutes = user_combined_with_plan[user_combined_with_plan['plan_name'] == 'ultimate']['total_minutes']\n",
    "\n",
    "# Crear una figura y ejes para el gráfico\n",
    "fig, ax = plt.subplots(figsize=(10, 6))\n",
    "\n",
    "# Crear histograma para el plan 'surf'\n",
    "ax.hist(surf_minutes, bins=20, alpha=0.5, label='surf', color='blue')\n",
    "\n",
    "# Crear histograma para el plan 'ultimate'\n",
    "ax.hist(ultimate_minutes, bins=20, alpha=0.5, label='ultimate', color='green')\n",
    "\n",
    "# Configurar etiquetas y leyenda\n",
    "ax.set_xlabel('Minutos Mensuales')\n",
    "ax.set_ylabel('Frecuencia')\n",
    "ax.set_title('Distribución de Minutos Mensuales por Plan')\n",
    "ax.legend()\n",
    "\n",
    "# Mostrar el histograma\n",
    "plt.show()\n"
   ]
  },
  {
   "cell_type": "markdown",
   "metadata": {},
   "source": [
    "Al realizar el histograma y podemos concluir que hay más personas que llaman en promedio 450 min en el plan surf, sin embargo el plan ultimate tmb tiene el mismo n° de min utilizado pero con menor frecuencia. "
   ]
  },
  {
   "cell_type": "code",
   "execution_count": 34,
   "metadata": {
    "id": "oSndbAnt0q1K"
   },
   "outputs": [
    {
     "name": "stdout",
     "output_type": "stream",
     "text": [
      "Media de duración mensual de llamadas:\n",
      "call_month\n",
      "1.0     570.716667\n",
      "2.0     492.095791\n",
      "3.0     454.200260\n",
      "4.0     476.814634\n",
      "5.0     459.647160\n",
      "6.0     467.566975\n",
      "7.0     460.388782\n",
      "8.0     460.342591\n",
      "9.0     459.133183\n",
      "10.0    457.793101\n",
      "11.0    457.459855\n",
      "12.0    457.892557\n",
      "Name: total_minutes, dtype: float64\n",
      "\n",
      "Varianza de duración mensual de llamadas:\n",
      "call_month\n",
      "1.0     33651.366857\n",
      "2.0     35624.605869\n",
      "3.0     42932.733796\n",
      "4.0     48377.620893\n",
      "5.0     48456.820825\n",
      "6.0     54753.808792\n",
      "7.0     54531.394609\n",
      "8.0     54101.057786\n",
      "9.0     54161.985933\n",
      "10.0    54171.808295\n",
      "11.0    54555.665944\n",
      "12.0    55090.761183\n",
      "Name: total_minutes, dtype: float64\n"
     ]
    }
   ],
   "source": [
    "# Calcula la media y la varianza de la duración mensual de llamadas.\n",
    "# Filtrar el DataFrame para obtener solo las columnas necesarias\n",
    "df_filtered = user_combined_with_plan[['user_id', 'call_month', 'total_minutes']]\n",
    "\n",
    "# Eliminar filas con valores nulos en 'total_minutes'\n",
    "df_filtered = df_filtered.dropna(subset=['total_minutes'])\n",
    "\n",
    "# Calcular la media de la duración mensual de llamadas\n",
    "mean_duration = df_filtered.groupby('call_month')['total_minutes'].mean()\n",
    "\n",
    "# Calcular la varianza de la duración mensual de llamadas\n",
    "variance_duration = df_filtered.groupby('call_month')['total_minutes'].var()\n",
    "\n",
    "# Imprimir la media y la varianza\n",
    "print(\"Media de duración mensual de llamadas:\")\n",
    "print(mean_duration)\n",
    "print(\"\\nVarianza de duración mensual de llamadas:\")\n",
    "print(variance_duration)"
   ]
  },
  {
   "cell_type": "markdown",
   "metadata": {},
   "source": [
    "Concluimos que la media mensual es muy similar en cada mes del año y que hay mucha variabilidad de la duración de llamadas."
   ]
  },
  {
   "cell_type": "code",
   "execution_count": 38,
   "metadata": {
    "id": "nZzoRUKc0q1K",
    "scrolled": true
   },
   "outputs": [
    {
     "data": {
      "image/png": "[encoded data removed]",
      "text/plain": [
       "<Figure size 720x432 with 1 Axes>"
      ]
     },
     "metadata": {
      "needs_background": "light"
     },
     "output_type": "display_data"
    },
    {
     "name": "stdout",
     "output_type": "stream",
     "text": [
      "<class 'pandas.core.frame.DataFrame'>\n",
      "Int64Index: 738522 entries, 0 to 738521\n",
      "Data columns (total 26 columns):\n",
      " #   Column                 Non-Null Count   Dtype         \n",
      "---  ------                 --------------   -----         \n",
      " 0   user_id                738522 non-null  int64         \n",
      " 1   first_name             738522 non-null  object        \n",
      " 2   last_name              738522 non-null  object        \n",
      " 3   age                    738522 non-null  int64         \n",
      " 4   city                   738522 non-null  object        \n",
      " 5   reg_date               738522 non-null  datetime64[ns]\n",
      " 6   plan                   738522 non-null  object        \n",
      " 7   churn_date             738522 non-null  object        \n",
      " 8   call_month             738370 non-null  float64       \n",
      " 9   call_count             738370 non-null  float64       \n",
      " 10  message_count          710675 non-null  float64       \n",
      " 11  total_minutes          738370 non-null  float64       \n",
      " 12  total_mb_used          738000 non-null  float64       \n",
      " 13  messages_included      738522 non-null  int64         \n",
      " 14  minutes_included       738522 non-null  int64         \n",
      " 15  usd_monthly_pay        738522 non-null  int64         \n",
      " 16  usd_per_gb             738522 non-null  int64         \n",
      " 17  usd_per_message        738522 non-null  float64       \n",
      " 18  usd_per_minute         738522 non-null  float64       \n",
      " 19  plan_name              738522 non-null  object        \n",
      " 20  gb_per_month_included  738522 non-null  float64       \n",
      " 21  total_gb_used          738000 non-null  float64       \n",
      " 22  call_charges           738370 non-null  float64       \n",
      " 23  message_charges        710675 non-null  float64       \n",
      " 24  data_charges           738000 non-null  float64       \n",
      " 25  total_charges          710022 non-null  float64       \n",
      "dtypes: datetime64[ns](1), float64(13), int64(6), object(6)\n",
      "memory usage: 152.1+ MB\n"
     ]
    }
   ],
   "source": [
    "# Traza un diagrama de caja para visualizar la distribución de la duración mensual de llamadas\n",
    "\n",
    "#Filtrar el DataFrame para obtener solo las columnas necesarias\n",
    "df_filtered = user_combined_with_plan[['call_month', 'total_minutes']]\n",
    "\n",
    "# Eliminar filas con valores nulos en 'total_minutes'\n",
    "df_filtered = df_filtered.dropna(subset=['total_minutes'])\n",
    "\n",
    "# Crear el diagrama de caja\n",
    "plt.figure(figsize=(10, 6))\n",
    "plt.boxplot([df_filtered[df_filtered['call_month'] == month]['total_minutes'] for month in range(1, 13)])\n",
    "plt.xticks(range(1, 13), [str(month) for month in range(1, 13)])\n",
    "plt.xlabel('Mes')\n",
    "plt.ylabel('Duración de Llamadas (minutos)')\n",
    "plt.title('Distribución de Duración de Llamadas por Mes')\n",
    "plt.show()\n",
    "\n",
    "user_combined_with_plan.info()"
   ]
  },
  {
   "cell_type": "markdown",
   "metadata": {
    "id": "r627zBO50q1K"
   },
   "source": [
    "_Las gráficas permiten visualizar que las el tiempo de llamadas no se ve afectado al tipo de plan que utilizan el promedio general es al rededor de 450 min, pero son embargo en promedio mes se evidencia que los que utilizan plan surf son los que tienen el promedio mensual más elevado._"
   ]
  },
  {
   "cell_type": "code",
   "execution_count": 55,
   "metadata": {},
   "outputs": [
    {
     "data": {
      "image/png": "[encoded data removed]",
      "text/plain": [
       "<Figure size 720x432 with 1 Axes>"
      ]
     },
     "metadata": {
      "needs_background": "light"
     },
     "output_type": "display_data"
    }
   ],
   "source": [
    "# Selecciona para realizar gráficas\n",
    "data = user_combined_with_plan[['call_month', 'total_minutes', 'total_gb_used', 'message_count', 'total_charges', 'plan_name']]\n",
    "\n",
    "# Filtra los datos por plan \"ultimate\" y \"surf\"\n",
    "data_ultimate = data[data['plan_name'] == 'ultimate']\n",
    "data_surf = data[data['plan_name'] == 'surf']\n",
    "\n",
    "# Se agrupan los datos por plan y mes\n",
    "data_ultimate_grouped = data_ultimate.groupby(['call_month', 'plan_name']).sum().reset_index()\n",
    "data_surf_grouped = data_surf.groupby(['call_month', 'plan_name']).sum().reset_index()\n",
    "\n",
    "plt.figure(figsize=(10, 6))\n",
    "plt.plot(data_ultimate_grouped['call_month'], data_ultimate_grouped['total_minutes'], marker='o', linestyle='-', label='Ultimate')\n",
    "plt.plot(data_surf_grouped['call_month'], data_surf_grouped['total_minutes'], marker='o', linestyle='-', label='Surf')\n",
    "plt.title('Evolución del Tiempo de Consumo de Minutos por Plan')\n",
    "plt.xlabel('Mes')\n",
    "plt.ylabel('Minutos Consumidos')\n",
    "plt.legend()\n",
    "plt.grid()\n",
    "plt.show()\n"
   ]
  },
  {
   "cell_type": "markdown",
   "metadata": {},
   "source": [
    "Podemos concluir que el uso de minutos en el plan Surf es mucho mayor que el Ultimate y ambos tienen crecimientos por cada mes. \n"
   ]
  },
  {
   "cell_type": "markdown",
   "metadata": {
    "id": "8idKy8Wh0q1L"
   },
   "source": [
    "### Mensajes"
   ]
  },
  {
   "cell_type": "code",
   "execution_count": 43,
   "metadata": {
    "id": "NXLxiTit0q1L"
   },
   "outputs": [
    {
     "data": {
      "text/plain": [
       "<Figure size 864x432 with 0 Axes>"
      ]
     },
     "metadata": {},
     "output_type": "display_data"
    },
    {
     "data": {
      "image/png": "[encoded data removed]",
      "text/plain": [
       "<Figure size 432x288 with 1 Axes>"
      ]
     },
     "metadata": {
      "needs_background": "light"
     },
     "output_type": "display_data"
    }
   ],
   "source": [
    "# Comprara el número de mensajes que tienden a enviar cada mes los usuarios de cada plan\n",
    "\n",
    "\n",
    "# Filtrar el DataFrame para obtener solo las columnas necesarias\n",
    "df_filtered = user_combined_with_plan[['plan_name', 'call_month', 'message_count']]\n",
    "\n",
    "# Eliminar filas con valores nulos en 'message_count'\n",
    "df_filtered = df_filtered.dropna(subset=['message_count'])\n",
    "\n",
    "# Crear un gráfico de barras para comparar el número de mensajes por mes y plan\n",
    "plt.figure(figsize=(12, 6))\n",
    "ax = df_filtered.groupby(['call_month', 'plan_name'])['message_count'].mean().unstack().plot(kind='bar')\n",
    "ax.set_xlabel('Mes')\n",
    "ax.set_ylabel('Número Promedio de Mensajes')\n",
    "ax.set_title('Número Promedio de Mensajes por Mes y Plan')\n",
    "plt.xticks(rotation=0)\n",
    "plt.legend(title='Plan')\n",
    "plt.show()\n"
   ]
  },
  {
   "cell_type": "markdown",
   "metadata": {},
   "source": [
    "\n",
    "Como conclusión general la gráfica nos muestra que en promedio los usuarios del plan 'ultimate' enviaron más mensajes que los del plan 'surf', eso era de esperarse ya que su plan les permite enviar más mensajes, pero ninguno de los 2 planes usa el total de sus mensajes correspondientes a su plan. \n",
    "    \n"
   ]
  },
  {
   "cell_type": "code",
   "execution_count": 44,
   "metadata": {
    "id": "GRI_R7xF0q1L"
   },
   "outputs": [
    {
     "data": {
      "image/png": "[encoded data removed]",
      "text/plain": [
       "<Figure size 720x432 with 1 Axes>"
      ]
     },
     "metadata": {
      "needs_background": "light"
     },
     "output_type": "display_data"
    }
   ],
   "source": [
    "# Filtrar el DataFrame para obtener solo las columnas necesarias\n",
    "df_filtered = user_combined_with_plan[['plan_name', 'call_month', 'message_count']]\n",
    "\n",
    "# Eliminar filas con valores nulos en 'message_count'\n",
    "df_filtered = df_filtered.dropna(subset=['message_count'])\n",
    "\n",
    "# Separar los datos para cada plan\n",
    "surf_messages = df_filtered[df_filtered['plan_name'] == 'surf']['message_count']\n",
    "ultimate_messages = df_filtered[df_filtered['plan_name'] == 'ultimate']['message_count']\n",
    "\n",
    "# Crear un histograma para comparar el número de mensajes por plan\n",
    "plt.figure(figsize=(10, 6))\n",
    "plt.hist([surf_messages, ultimate_messages], bins=20, alpha=0.5, label=['surf', 'ultimate'], color=['blue', 'green'])\n",
    "\n",
    "plt.xlabel('Número de Mensajes Mensuales')\n",
    "plt.ylabel('Frecuencia')\n",
    "plt.title('Distribución del Número de Mensajes Mensuales por Plan')\n",
    "plt.legend()\n",
    "plt.show()"
   ]
  },
  {
   "cell_type": "markdown",
   "metadata": {},
   "source": [
    "Se utiliza con más frecuencia mensajes en el plan surf que el ultimate, esto es un dato importante sin embargo podemos visualizar que la cantidad de mensajes enviados está en un grando de 1 a 50, pocas personas envían mensajes de texto en ambos planes. "
   ]
  },
  {
   "cell_type": "code",
   "execution_count": 45,
   "metadata": {
    "id": "dtFwCGAp0q1M"
   },
   "outputs": [
    {
     "data": {
      "image/png": "[encoded data removed]",
      "text/plain": [
       "<Figure size 720x432 with 1 Axes>"
      ]
     },
     "metadata": {
      "needs_background": "light"
     },
     "output_type": "display_data"
    }
   ],
   "source": [
    "\n",
    "\n",
    "# Filtrar el DataFrame para obtener solo las columnas necesarias\n",
    "df_filtered = user_combined_with_plan[['call_month', 'message_count']]\n",
    "\n",
    "# Eliminar filas con valores nulos en 'message_count'\n",
    "df_filtered = df_filtered.dropna(subset=['message_count'])\n",
    "\n",
    "# Crear el diagrama de caja\n",
    "plt.figure(figsize=(10, 6))\n",
    "plt.boxplot([df_filtered[df_filtered['call_month'] == month]['message_count'] for month in range(1, 13)])\n",
    "plt.xticks(range(1, 13), [str(month) for month in range(1, 13)])\n",
    "plt.xlabel('Mes')\n",
    "plt.ylabel('Cantidad de Mensajes Mensuales')\n",
    "plt.title('Distribución de Cantidad de Mensajes Mensuales por Mes')\n",
    "plt.show()"
   ]
  },
  {
   "cell_type": "markdown",
   "metadata": {
    "id": "390SSL480q1M"
   },
   "source": [
    "_Se puede visualizar que efectivamente su comportamientovaría en función al plan, el plan ultimate tiene más mensajes mensuales enviados por mes._"
   ]
  },
  {
   "cell_type": "code",
   "execution_count": 49,
   "metadata": {},
   "outputs": [
    {
     "data": {
      "image/png": "[encoded data removed]",
      "text/plain": [
       "<Figure size 720x432 with 1 Axes>"
      ]
     },
     "metadata": {
      "needs_background": "light"
     },
     "output_type": "display_data"
    }
   ],
   "source": [
    "\n",
    "plt.figure(figsize=(10, 6))\n",
    "plt.plot(data_ultimate_grouped['call_month'], data_ultimate_grouped['message_count'], marker='o', linestyle='-', label='Ultimate')\n",
    "plt.plot(data_surf_grouped['call_month'], data_surf_grouped['message_count'], marker='o', linestyle='-', label='Surf')\n",
    "plt.title('Evolución del Tiempo de Consumo de Mensajes por Plan')\n",
    "plt.xlabel('Mes')\n",
    "plt.ylabel('Mensajes Consumidos')\n",
    "plt.legend()\n",
    "plt.grid()\n",
    "plt.show()"
   ]
  },
  {
   "cell_type": "markdown",
   "metadata": {},
   "source": [
    "Es uso de consumo por mes va creciendo en lo que pasa el tiempo, sin embargo destaca el uso de mensajes en el plan surf sobre el plan ultimate."
   ]
  },
  {
   "cell_type": "markdown",
   "metadata": {
    "id": "42YSypXz0q1M"
   },
   "source": [
    "### Internet"
   ]
  },
  {
   "cell_type": "code",
   "execution_count": 50,
   "metadata": {
    "id": "lSuKPtjh0q1M"
   },
   "outputs": [
    {
     "data": {
      "text/plain": [
       "<Figure size 864x432 with 0 Axes>"
      ]
     },
     "metadata": {},
     "output_type": "display_data"
    },
    {
     "data": {
      "image/png": "[encoded data removed]",
      "text/plain": [
       "<Figure size 432x288 with 1 Axes>"
      ]
     },
     "metadata": {
      "needs_background": "light"
     },
     "output_type": "display_data"
    }
   ],
   "source": [
    "# Compara la cantidad de tráfico de Internet consumido por usuarios por plan\n",
    "\n",
    "# Filtrar el DataFrame para obtener solo las columnas necesarias\n",
    "df_filtered = user_combined_with_plan[['plan_name', 'call_month', 'total_mb_used']]\n",
    "\n",
    "# Eliminar filas con valores nulos en 'total_mb_used'\n",
    "df_filtered = df_filtered.dropna(subset=['total_mb_used'])\n",
    "\n",
    "# Crear un gráfico de barras para comparar el tráfico de Internet por plan\n",
    "plt.figure(figsize=(12, 6))\n",
    "ax = df_filtered.groupby(['call_month', 'plan_name'])['total_mb_used'].mean().unstack().plot(kind='bar')\n",
    "ax.set_xlabel('Mes')\n",
    "ax.set_ylabel('Tráfico de Internet Promedio (MB)')\n",
    "ax.set_title('Tráfico de Internet Promedio por Mes y Plan')\n",
    "plt.xticks(rotation=0)\n",
    "plt.legend(title='Plan')\n",
    "plt.show()"
   ]
  },
  {
   "cell_type": "markdown",
   "metadata": {},
   "source": [
    "\n",
    "En promedio mes el trafico de internet es mayor para el plan ultimate, que el surf, pero se ve que el plan surf consume más de lo incluido en su plan, esto ayuda para la toma de deción ya que nos dice que hay personas que adicionan mb a su paquete. \n",
    "    "
   ]
  },
  {
   "cell_type": "code",
   "execution_count": 51,
   "metadata": {
    "id": "wnh8jYXi0q1N"
   },
   "outputs": [
    {
     "data": {
      "image/png": "[encoded data removed]",
      "text/plain": [
       "<Figure size 720x432 with 1 Axes>"
      ]
     },
     "metadata": {
      "needs_background": "light"
     },
     "output_type": "display_data"
    }
   ],
   "source": [
    "# Se verífica el tráfico de internet consumido por cada plan \n",
    "\n",
    "\n",
    "# Filtrar el DataFrame para obtener solo las columnas necesarias\n",
    "df_filtered = user_combined_with_plan[['plan_name', 'total_mb_used']]\n",
    "\n",
    "# Eliminar filas con valores nulos en 'total_mb_used'\n",
    "df_filtered = df_filtered.dropna(subset=['total_mb_used'])\n",
    "\n",
    "# Separar los datos para cada plan\n",
    "surf_data_usage = df_filtered[df_filtered['plan_name'] == 'surf']['total_mb_used']\n",
    "ultimate_data_usage = df_filtered[df_filtered['plan_name'] == 'ultimate']['total_mb_used']\n",
    "\n",
    "# Crear un histograma para comparar el tráfico de Internet por plan\n",
    "plt.figure(figsize=(10, 6))\n",
    "plt.hist([surf_data_usage, ultimate_data_usage], bins=20, alpha=0.5, label=['surf', 'ultimate'], color=['blue', 'green'])\n",
    "plt.xlabel('Tráfico de Internet Consumido (MB)')\n",
    "plt.ylabel('Frecuencia')\n",
    "plt.title('Distribución de Tráfico de Internet Consumido por Plan')\n",
    "plt.legend()\n",
    "plt.show()"
   ]
  },
  {
   "cell_type": "markdown",
   "metadata": {},
   "source": [
    "El plan surf tiene como media de consumo 1500 mb a diferencia dela ultimate la cual es 2000 mb, tambien destaquemos el hecho que el uso de internet es mas frecuente en el plan surf. "
   ]
  },
  {
   "cell_type": "code",
   "execution_count": 52,
   "metadata": {
    "id": "5VlyJ9ry0q1N"
   },
   "outputs": [
    {
     "data": {
      "image/png": "[encoded data removed]",
      "text/plain": [
       "<Figure size 720x432 with 1 Axes>"
      ]
     },
     "metadata": {
      "needs_background": "light"
     },
     "output_type": "display_data"
    }
   ],
   "source": [
    "# Filtrar el DataFrame para obtener solo las columnas necesarias\n",
    "df_filtered = user_combined_with_plan[['call_month', 'total_mb_used']]\n",
    "\n",
    "# Eliminar filas con valores nulos en 'total_mb_used'\n",
    "df_filtered = df_filtered.dropna(subset=['total_mb_used'])\n",
    "\n",
    "# Crear el diagrama de caja\n",
    "plt.figure(figsize=(10, 6))\n",
    "plt.boxplot([df_filtered[df_filtered['call_month'] == month]['total_mb_used'] for month in range(1, 13)])\n",
    "plt.xticks(range(1, 13), [str(month) for month in range(1, 13)])\n",
    "plt.xlabel('Mes')\n",
    "plt.ylabel('Tráfico de Internet Consumido (MB)')\n",
    "plt.title('Distribución de Tráfico de Internet Consumido por Mes')\n",
    "plt.show()\n"
   ]
  },
  {
   "cell_type": "markdown",
   "metadata": {
    "id": "UN9zwuMP0q1N"
   },
   "source": [
    "Podemos visualizar que los usuarios del plan ultimate no llegan al límite de su plan mensual, mientras que los del plan surf muchas veces tienen más consumo que el límite. El tráfico de consumo de internet por mes es de aproximadamente 20000 MB, y hay muchos valores atípicos. Y es evidente que el comportamiento varía en función al plan. "
   ]
  },
  {
   "cell_type": "code",
   "execution_count": 56,
   "metadata": {
    "scrolled": true
   },
   "outputs": [
    {
     "data": {
      "image/png": "[encoded data removed]",
      "text/plain": [
       "<Figure size 720x432 with 1 Axes>"
      ]
     },
     "metadata": {
      "needs_background": "light"
     },
     "output_type": "display_data"
    }
   ],
   "source": [
    "plt.figure(figsize=(10, 6))\n",
    "plt.plot(data_ultimate_grouped['call_month'], data_ultimate_grouped['total_gb_used'], marker='o', linestyle='-', label='Ultimate')\n",
    "plt.plot(data_surf_grouped['call_month'], data_surf_grouped['total_gb_used'], marker='o', linestyle='-', label='Surf')\n",
    "plt.title('Evolución del Tiempo de de Consumo de Internet (en GB)')\n",
    "plt.xlabel('Mes')\n",
    "plt.ylabel('GB de Internet Consumidos')\n",
    "plt.legend()\n",
    "plt.grid()\n",
    "plt.show()"
   ]
  },
  {
   "cell_type": "markdown",
   "metadata": {},
   "source": [
    "Del mismo modo, el aumento de consumo de Gb en cada plan es directamente proporcional , sin embargo destaca el uso del del plan Surf.   "
   ]
  },
  {
   "cell_type": "markdown",
   "metadata": {
    "id": "tCijq3260q1N"
   },
   "source": [
    "## Ingreso"
   ]
  },
  {
   "cell_type": "code",
   "execution_count": 57,
   "metadata": {
    "id": "tz-dq_V00q1O"
   },
   "outputs": [
    {
     "data": {
      "text/plain": [
       "<Figure size 864x432 with 0 Axes>"
      ]
     },
     "metadata": {},
     "output_type": "display_data"
    },
    {
     "data": {
      "image/png": "[encoded data removed]",
      "text/plain": [
       "<Figure size 432x288 with 1 Axes>"
      ]
     },
     "metadata": {
      "needs_background": "light"
     },
     "output_type": "display_data"
    }
   ],
   "source": [
    "# Obtener grafica para verificar ingresos mensuales\n",
    "\n",
    "# Filtrar el DataFrame para obtener solo las columnas necesarias\n",
    "df_filtered = user_combined_with_plan[['call_month', 'plan_name', 'total_charges']]\n",
    "\n",
    "# Eliminar filas con valores nulos en 'total_charges'\n",
    "df_filtered = df_filtered.dropna(subset=['total_charges'])\n",
    "\n",
    "# Calcular el total_charges por plan y mes\n",
    "charges_by_plan_month = df_filtered.groupby(['call_month', 'plan_name'])['total_charges'].sum().unstack()\n",
    "\n",
    "# Crear un gráfico de barras para comparar los total_charges por plan y mes\n",
    "plt.figure(figsize=(12, 6))\n",
    "charges_by_plan_month.plot(kind='bar', stacked=True)\n",
    "plt.xlabel('Mes')\n",
    "plt.ylabel('Total Charges')\n",
    "plt.title('Total Charges por Plan y Mes')\n",
    "plt.xticks(rotation=0)\n",
    "plt.legend(title='Plan')\n",
    "plt.show()"
   ]
  },
  {
   "cell_type": "markdown",
   "metadata": {},
   "source": [
    "\n",
    "En terminos generales se evidencia un incremento positivo mensual por cargo total de cada plan, ambos planes incrementan mensualmente su valor, eso indica que hubo consumos adicional en el plan surf. Como se pudo mostrar en las gráficas anteriores \n",
    "    \n"
   ]
  },
  {
   "cell_type": "code",
   "execution_count": 58,
   "metadata": {
    "id": "0Y1v8ZUz0q1P"
   },
   "outputs": [
    {
     "data": {
      "image/png": "[encoded data removed]",
      "text/plain": [
       "<Figure size 720x432 with 1 Axes>"
      ]
     },
     "metadata": {
      "needs_background": "light"
     },
     "output_type": "display_data"
    }
   ],
   "source": [
    "\n",
    "\n",
    "# Filtrar el DataFrame para obtener solo las columnas necesarias\n",
    "df_filtered = user_combined_with_plan[['plan_name', 'total_charges']]\n",
    "\n",
    "# Eliminar filas con valores nulos en 'total_charges'\n",
    "df_filtered = df_filtered.dropna(subset=['total_charges'])\n",
    "\n",
    "# Separar los datos para cada plan\n",
    "surf_charges = df_filtered[df_filtered['plan_name'] == 'surf']['total_charges']\n",
    "ultimate_charges = df_filtered[df_filtered['plan_name'] == 'ultimate']['total_charges']\n",
    "\n",
    "# Crear un histograma para comparar los total_charges por plan\n",
    "plt.figure(figsize=(10, 6))\n",
    "plt.hist([surf_charges, ultimate_charges], bins=20, alpha=0.5, label=['surf', 'ultimate'], color=['blue', 'green'])\n",
    "plt.xlabel('Total Charges')\n",
    "plt.ylabel('Frecuencia')\n",
    "plt.title('Distribución de Total Charges por Plan')\n",
    "plt.legend()\n",
    "plt.show()"
   ]
  },
  {
   "cell_type": "markdown",
   "metadata": {},
   "source": [
    "Ambos planes tienen una mediana muy similar de aproximadamente 1500, sin enbargo visualizamos que hay algunos valores atípicos del plan surf. Pero en terminos generales el plan surf usa con más frecuencia sus mb y consume mucho más."
   ]
  },
  {
   "cell_type": "code",
   "execution_count": 59,
   "metadata": {
    "id": "bYmwxyVh0q1P"
   },
   "outputs": [
    {
     "data": {
      "image/png": "[encoded data removed]",
      "text/plain": [
       "<Figure size 864x432 with 1 Axes>"
      ]
     },
     "metadata": {
      "needs_background": "light"
     },
     "output_type": "display_data"
    }
   ],
   "source": [
    "# Filtrar el DataFrame para obtener solo las columnas necesarias\n",
    "df_filtered = user_combined_with_plan[['call_month', 'total_charges']]\n",
    "\n",
    "# Eliminar filas con valores nulos en 'total_charges'\n",
    "df_filtered = df_filtered.dropna(subset=['total_charges'])\n",
    "\n",
    "# Crear el diagrama de caja\n",
    "plt.figure(figsize=(12, 6))\n",
    "plt.boxplot([df_filtered[df_filtered['call_month'] == month]['total_charges'] for month in range(1, 13)])\n",
    "plt.xticks(range(1, 13), [str(month) for month in range(1, 13)])\n",
    "plt.xlabel('Mes')\n",
    "plt.ylabel('Total Charges')\n",
    "plt.title('Distribución de Total Charges por Mes')\n",
    "plt.show()"
   ]
  },
  {
   "cell_type": "markdown",
   "metadata": {
    "id": "KAFidcXZ0q1P"
   },
   "source": [
    "_Se visualiza que el ingreso mensual promedio permanece en el mismo valor, como se podía visualizar en la grafica anterior hay muchos valores mes a mes que se puede evidenciar mejor en la gráfica de bigotes_"
   ]
  },
  {
   "cell_type": "code",
   "execution_count": 61,
   "metadata": {},
   "outputs": [
    {
     "data": {
      "image/png": "[encoded data removed]",
      "text/plain": [
       "<Figure size 720x432 with 1 Axes>"
      ]
     },
     "metadata": {
      "needs_background": "light"
     },
     "output_type": "display_data"
    }
   ],
   "source": [
    "plt.figure(figsize=(10, 6))\n",
    "plt.plot(data_ultimate_grouped['call_month'], data_ultimate_grouped['total_charges'], marker='o', linestyle='-', label='Ultimate')\n",
    "plt.plot(data_surf_grouped['call_month'], data_surf_grouped['total_charges'], marker='o', linestyle='-', label='Surf')\n",
    "plt.title('Evolución de Ingresos por Plan')\n",
    "plt.xlabel('Mes')\n",
    "plt.ylabel('Ingresos (USD)')\n",
    "plt.legend()\n",
    "plt.grid()\n",
    "plt.show()"
   ]
  },
  {
   "cell_type": "markdown",
   "metadata": {},
   "source": [
    "Los ingresos totales por plan van incrementando a lo largo de los meses como era de esperarse, ya que en los gráficos anteriores nos puede dar a conocer como los mensajes, consumo de GB y llamadas tienen la misma tendencia. "
   ]
  },
  {
   "cell_type": "code",
   "execution_count": 66,
   "metadata": {},
   "outputs": [
    {
     "name": "stdout",
     "output_type": "stream",
     "text": [
      "Estadísticas para el plan Ultimate:\n"
     ]
    },
    {
     "data": {
      "text/plain": [
       "{'Media': call_month            7.816029\n",
       " total_minutes       444.256869\n",
       " total_gb_used        18.656930\n",
       " message_count        44.953461\n",
       " total_charges    133658.746113\n",
       " dtype: float64,\n",
       " 'Mediana': call_month            8.000000\n",
       " total_minutes       434.000000\n",
       " total_gb_used        18.102461\n",
       " message_count        36.000000\n",
       " total_charges    129662.482773\n",
       " dtype: float64,\n",
       " 'Moda': call_month              9.0\n",
       " total_minutes         711.0\n",
       " total_gb_used      1.284521\n",
       " message_count          13.0\n",
       " total_charges    9229.08835\n",
       " plan_name          ultimate\n",
       " Name: 0, dtype: object,\n",
       " 'Desviación Estándar': call_month           2.950308\n",
       " total_minutes      236.944124\n",
       " total_gb_used        7.590566\n",
       " message_count       30.918751\n",
       " total_charges    54410.006402\n",
       " dtype: float64,\n",
       " 'Varianza': call_month       8.704316e+00\n",
       " total_minutes    5.614252e+04\n",
       " total_gb_used    5.761669e+01\n",
       " message_count    9.559691e+02\n",
       " total_charges    2.960449e+09\n",
       " dtype: float64}"
      ]
     },
     "metadata": {},
     "output_type": "display_data"
    },
    {
     "name": "stdout",
     "output_type": "stream",
     "text": [
      "\n",
      "Estadísticas para el plan Surf:\n"
     ]
    },
    {
     "data": {
      "text/plain": [
       "{'Media': call_month            8.035717\n",
       " total_minutes       471.555456\n",
       " total_gb_used        16.432172\n",
       " message_count        37.087499\n",
       " total_charges    167927.082586\n",
       " dtype: float64,\n",
       " 'Mediana': call_month            8.000000\n",
       " total_minutes       469.000000\n",
       " total_gb_used        16.528838\n",
       " message_count        32.000000\n",
       " total_charges    168972.021934\n",
       " dtype: float64,\n",
       " 'Moda': call_month               10.0\n",
       " total_minutes           374.0\n",
       " total_gb_used        7.709756\n",
       " message_count            11.0\n",
       " total_charges    43889.121758\n",
       " plan_name                surf\n",
       " Name: 0, dtype: object,\n",
       " 'Desviación Estándar': call_month           2.749634\n",
       " total_minutes      225.295253\n",
       " total_gb_used        6.924784\n",
       " message_count       29.383313\n",
       " total_charges    70741.080808\n",
       " dtype: float64,\n",
       " 'Varianza': call_month       7.560489e+00\n",
       " total_minutes    5.075795e+04\n",
       " total_gb_used    4.795263e+01\n",
       " message_count    8.633791e+02\n",
       " total_charges    5.004301e+09\n",
       " dtype: float64}"
      ]
     },
     "metadata": {},
     "output_type": "display_data"
    }
   ],
   "source": [
    "# ESTADÍASTICA GENERAL \n",
    "\n",
    "# Estadísticas para plan \"ultimate\"\n",
    "ultimate_stats = {\n",
    "    'Media': data_ultimate.mean(),\n",
    "    'Mediana': data_ultimate.median(),\n",
    "    'Moda': data_ultimate.mode().iloc[0],\n",
    "    'Desviación Estándar': data_ultimate.std(),\n",
    "    'Varianza': data_ultimate.var()\n",
    "}\n",
    "\n",
    "# Estadísticas para plan \"surf\"\n",
    "surf_stats = {\n",
    "    'Media': data_surf.mean(),\n",
    "    'Mediana': data_surf.median(),\n",
    "    'Moda': data_surf.mode().iloc[0],\n",
    "    'Desviación Estándar': data_surf.std(),\n",
    "    'Varianza': data_surf.var()\n",
    "}\n",
    "# Estadísticas para plan \"ultimate\"\n",
    "print(\"Estadísticas para el plan Ultimate:\")\n",
    "display(ultimate_stats)\n",
    "\n",
    "# Estadísticas para plan \"surf\"\n",
    "print(\"\\nEstadísticas para el plan Surf:\")\n",
    "display(surf_stats)\n"
   ]
  },
  {
   "cell_type": "markdown",
   "metadata": {},
   "source": [
    "Para el plan \"Ultimate\":\n",
    "\n",
    "La media de la duración de llamadas (total_minutes) es de aproximadamente 444 minutos por mes, con una mediana de 434 minutos. Esto indica que la mayoría de los usuarios consumen menos de 444 minutos al mes.\n",
    "La media de uso de datos (total_gb_used) es de alrededor de 18.66 GB, con una mediana de 18.10 GB. La mayoría de los usuarios consumen alrededor de esta cantidad de datos.\n",
    "El número promedio de mensajes (message_count) es de aproximadamente 44.95 mensajes al mes, con una mediana de 36 mensajes.\n",
    "Los ingresos promedio (total_charges) son de alrededor de 133,658.75 USD por mes.\n",
    "\n",
    "\n",
    "Para el plan \"Surf\":\n",
    "\n",
    "La media de la duración de llamadas (total_minutes) es de aproximadamente 471.56 minutos por mes, con una mediana de 469 minutos. Esto sugiere que la duración de las llamadas es bastante similar entre los usuarios de este plan.\n",
    "La media de uso de datos (total_gb_used) es de alrededor de 16.43 GB, con una mediana de 16.53 GB. La mayoría de los usuarios consumen alrededor de esta cantidad de datos.\n",
    "El número promedio de mensajes (message_count) es de aproximadamente 37.09 mensajes al mes, con una mediana de 32 mensajes.\n",
    "Los ingresos promedio (total_charges) son de alrededor de 167,927.08 USD por mes.\n",
    "\n",
    "\n",
    "Conclusiones generales:\n",
    "\n",
    "En el plan \"Ultimate,\" los usuarios tienden a consumir menos minutos de llamadas y mensajes en comparación con el plan \"Surf.\" Sin embargo, utilizan más datos en promedio.\n",
    "Los valores medios y medianos de las métricas son relativamente cercanos en ambos planes, lo que sugiere una distribución bastante simétrica de los datos.\n",
    "La desviación estándar y la varianza proporcionan información sobre la dispersión de los datos. En general, los valores de estas estadísticas son más altos en el plan \"Ultimate,\" lo que sugiere una mayor variabilidad en el uso de los servicios en comparación con el plan \"Surf.\""
   ]
  },
  {
   "cell_type": "markdown",
   "metadata": {},
   "source": [
    "<div class=\"alert alert-block alert-danger\">\n",
    "    <b>Comentario del revisor</b> <a class=\"tocSkip\"></a>\n",
    "\n",
    "~~Realizas un buen trabajo en la sección; sin embargo, hay puntos clave que se deben tener en cuenta para mejorar el proyecto y poder realizar una revisión de mejor manera. El ideal seria que generes conclusiones intermedias de las diferentes exploraciones que vas realizando, esto con la finalidad de que haya un hilo conductor que desarrollo del proyecto.~~\n",
    "    \n",
    "~~Por otro lado, fíjate que importaste algunos módulos en esta sección y todos deberían ir al principio del proyecto.~~\n",
    "    \n",
    "~~ay algunas gráficas /análisis adicionales que se pueden incluir a la sección, tales como:~~\n",
    "    \n",
    "- ~~Crear lineplots para observar la evolución del tiempo de consumo, de minutos, de llamadas, de internet y de mensajes, e ingresos por plan.~~\n",
    "    \n",
    "- ~~Desarrollar una descripción estadística de cada artículo e ingresos por plan (media, mediana, moda, desviación estándar, varianza)~~\n",
    "</div>"
   ]
  },
  {
   "cell_type": "markdown",
   "metadata": {},
   "source": [
    "<div class=\"alert alert-block alert-danger\">\n",
    "    <b>Comentario del revisor #3</b> <a class=\"tocSkip\"></a>\n",
    "\n",
    "~~Debes tener en cuenta algunos de los comentarios que había realizado en la primera revisión.~~\n",
    "</div>"
   ]
  },
  {
   "cell_type": "markdown",
   "metadata": {},
   "source": [
    "<div class=\"alert alert-block alert-success\">\n",
    "<b>Comentario del revisor #5</b> <a class=\"tocSkip\"></a>\n",
    "    \n",
    "Buen trabajo Christian.</div>\n",
    "    "
   ]
  },
  {
   "cell_type": "markdown",
   "metadata": {
    "id": "ajJ7VKeI0q1Q"
   },
   "source": [
    "## Prueba las hipótesis estadísticas"
   ]
  },
  {
   "cell_type": "markdown",
   "metadata": {
    "id": "IQwa_hsh0q1Q"
   },
   "source": [
    "Hipótesis Nula (H0): Los ingresos promedio de los usuarios de los planes de llamada Ultimate y Surf son iguales.\n",
    "Hipótesis Alternativa (H1): Los ingresos promedio de los usuarios de los planes de llamada Ultimate y Surf son diferentes.\n"
   ]
  },
  {
   "cell_type": "code",
   "execution_count": 67,
   "metadata": {
    "id": "nFoPNlPq0q1R"
   },
   "outputs": [
    {
     "name": "stdout",
     "output_type": "stream",
     "text": [
      "Rechazar la hipótesis nula: Las varianzas son diferentes.\n",
      "Rechazar la hipótesis nula: Los ingresos promedio son diferentes.\n"
     ]
    }
   ],
   "source": [
    "# Prueba las hipótesis\n",
    "\n",
    "# Filtrar el DataFrame para obtener solo las columnas necesarias\n",
    "df_filtered = user_combined_with_plan[['plan_name', 'total_charges']]\n",
    "\n",
    "# Eliminar filas con valores nulos en 'total_charges'\n",
    "df_filtered = df_filtered.dropna(subset=['total_charges'])\n",
    "\n",
    "# Separar los datos en dos grupos: Ultimate y Surf\n",
    "ultimate_charges = df_filtered[df_filtered['plan_name'] == 'ultimate']['total_charges']\n",
    "surf_charges = df_filtered[df_filtered['plan_name'] == 'surf']['total_charges']\n",
    "\n",
    "# Realizar la prueba de igualdad de varianzas (Prueba de Levene)\n",
    "statistic, p_value_var = stats.levene(ultimate_charges, surf_charges)\n",
    "\n",
    "# Nivel de significancia (alfa)\n",
    "alfa_var = 0.05\n",
    "\n",
    "# Comparar el valor p con alfa_var\n",
    "if p_value_var < alfa_var:\n",
    "    print(\"Rechazar la hipótesis nula: Las varianzas son diferentes.\")\n",
    "else:\n",
    "    print(\"No se puede rechazar la hipótesis nula: No hay evidencia suficiente para afirmar que las varianzas son diferentes.\")\n",
    "\n",
    "# Realizar la prueba t de Student para comparar los ingresos promedio\n",
    "t_statistic, p_value = stats.ttest_ind(ultimate_charges, surf_charges, equal_var=(p_value_var >= alfa_var))\n",
    "\n",
    "# Nivel de significancia (alfa)\n",
    "alfa = 0.05\n",
    "\n",
    "# Comparar el valor p con alfa\n",
    "if p_value < alfa:\n",
    "    print(\"Rechazar la hipótesis nula: Los ingresos promedio son diferentes.\")\n",
    "else:\n",
    "    print(\"No se puede rechazar la hipótesis nula: No hay evidencia suficiente para afirmar que los ingresos promedio son diferentes.\")\n"
   ]
  },
  {
   "cell_type": "markdown",
   "metadata": {},
   "source": [
    "Primero realizamos la prueba de igualdad de varianzas para determinar si las varianzas de los ingresos en los dos grupos (Ultimate y Surf) son iguales o diferentes. Esto es importante ya que la prueba t de Student asume igualdad de varianzas. Si la prueba de igualdad de varianza muestra que las varianzas son diferentes, configuramos el argumento equal_var en la prueba t como False, lo que permite no supongamos que la prueba t tengan igualdad de varianzas."
   ]
  },
  {
   "cell_type": "markdown",
   "metadata": {
    "id": "LsBgitqj0q1R"
   },
   "source": [
    "Hipótesis Nula (H0): El ingreso promedio de los usuarios del área NY-NJ es igual al de los usuarios de otras regiones.\n",
    "Hipótesis Alternativa (H1): El ingreso promedio de los usuarios del área NY-NJ es diferente al de los usuarios de otras regiones."
   ]
  },
  {
   "cell_type": "code",
   "execution_count": null,
   "metadata": {
    "id": "Cqcj7wrZ0q1S"
   },
   "outputs": [],
   "source": [
    "# Prueba las hipótesis\n",
    "# Filtrar el DataFrame para obtener solo las columnas necesarias\n",
    "df_filtered = user_combined_with_plan[['city', 'total_charges']]\n",
    "\n",
    "# Eliminar filas con valores nulos en 'total_charges'\n",
    "df_filtered = df_filtered.dropna(subset=['total_charges'])\n",
    "\n",
    "# Separar los datos en dos grupos: usuarios de NY-NJ y usuarios de otras regiones\n",
    "ny_nj_charges = df_filtered[df_filtered['city'].str.contains('NY-NJ')]['total_charges']\n",
    "other_region_charges = df_filtered[~df_filtered['city'].str.contains('NY-NJ')]['total_charges']\n",
    "\n",
    "# Realizar la prueba de igualdad de varianzas (Prueba de Levene)\n",
    "statistic, p_value_var = stats.levene(ny_nj_charges, other_region_charges)\n",
    "\n",
    "# Nivel de significancia (alfa)\n",
    "alfa_var = 0.05\n",
    "\n",
    "# Comparar el valor p con alfa_var\n",
    "if p_value_var < alfa_var:\n",
    "    print(\"Rechazar la hipótesis nula: Las varianzas son diferentes.\")\n",
    "else:\n",
    "    print(\"No se puede rechazar la hipótesis nula: No hay evidencia suficiente para afirmar que las varianzas son diferentes.\")\n",
    "\n",
    "# Realizar la prueba t de Student para comparar los ingresos promedio\n",
    "t_statistic, p_value = stats.ttest_ind(ny_nj_charges, other_region_charges, equal_var=(p_value_var >= alfa_var))\n",
    "\n",
    "# Nivel de significancia (alfa)\n",
    "alfa = 0.05\n",
    "\n",
    "# Comparar el valor p con alfa\n",
    "if p_value < alfa:\n",
    "    print(\"Rechazar la hipótesis nula: El ingreso promedio es diferente en el área NY-NJ y otras regiones.\")\n",
    "else:\n",
    "    print(\"No se puede rechazar la hipótesis nula: No hay evidencia suficiente para afirmar que el ingreso promedio es diferente en el área NY-NJ y otras regiones.\")\n"
   ]
  },
  {
   "cell_type": "markdown",
   "metadata": {},
   "source": [
    "Al ser la hipotes nula podemos decir que las varianzas son diferentes, pero no podemos asegurar que el ingreso promedio es diferente en el área de NY-NJ y otras regiones. \n",
    "Este enfoque toma en cuenta la igualdad o diferencia en las varianzas antes de realizar la prueba t, lo que es apropiado cuando se comparan grupos con diferentes variabilidades. Como mencionaste en tu hipótesis, estás comparando el ingreso promedio en dos grupos diferentes, por lo que es importante considerar la varianza al realizar la prueba"
   ]
  },
  {
   "cell_type": "markdown",
   "metadata": {},
   "source": [
    "<div class=\"alert alert-block alert-danger\">\n",
    "    <b>Comentario del revisor</b> <a class=\"tocSkip\"></a>\n",
    "\n",
    "~~Realizas un buen trabajo con las pruebas de hipótesis; sin embargo, es  importante que se organice la sección y se estudie componentes como la comparación de las varianzas entre los grupos de la hipótesis.~~\n",
    "</div>"
   ]
  },
  {
   "cell_type": "markdown",
   "metadata": {},
   "source": [
    "<div class=\"alert alert-block alert-danger\">\n",
    "    <b>Comentario del revisor #3</b> <a class=\"tocSkip\"></a>\n",
    "\n",
    "~~Debes tener en cuenta algunos de los comentarios que había realizado en la primera revisión.~~\n",
    "</div>"
   ]
  },
  {
   "cell_type": "markdown",
   "metadata": {},
   "source": [
    "<div class=\"alert alert-block alert-success\">\n",
    "<b>Comentario del revisor #5</b> <a class=\"tocSkip\"></a>\n",
    "    \n",
    "Buen trabajo Christian.</div>\n",
    "    "
   ]
  },
  {
   "cell_type": "markdown",
   "metadata": {
    "id": "bbTR8UQO0q1T"
   },
   "source": [
    "## Conclusión general\n",
    "\n",
    "En este análisis de datos, se realizaron una serie de pasos cruciales para comprender y extraer información valiosa de los conjuntos de datos proporcionados. Se llevó a cabo una limpieza y preparación de datos exhaustiva, que incluyó la identificación y manejo de valores nulos, la conversión de tipos de datos, y la agregación de datos por usuario y mes. A lo largo del proceso, se aplicaron diversas pruebas estadísticas para responder preguntas clave y tomar decisiones basadas en evidencia. Se examinaron diferencias en ingresos promedio entre planes y regiones, se exploraron patrones en la duración de llamadas y mensajes, y se evaluó el consumo de datos. Estas conclusiones respaldan la toma de decisiones informadas para la empresa y proporcionan información valiosa sobre el comportamiento de los usuarios y el rendimiento de los planes ofrecidos. En resumen, este análisis ayudó a identificar oportunidades y desafíos en la prestación de servicios de telecomunicaciones, respaldando la toma de decisiones estratégicas."
   ]
  },
  {
   "cell_type": "markdown",
   "metadata": {},
   "source": [
    "<div class=\"alert alert-block alert-danger\">\n",
    "<b>Comentario del revisor</b> <a class=\"tocSkip\"></a>\n",
    "    \n",
    "# Comentario General\n",
    "\n",
    "~~Hola Christian. Te felicito por trabajo hasta el momento. He dejado diferentes comentarios para que los puedas tener en cuenta y revisar. ~~</div>\n",
    "\n",
    "<div class=\"alert alert-block alert-danger\">\n",
    "    <b>Comentario del revisor #2</b> <a class=\"tocSkip\"></a>\n",
    "    \n",
    "# Comentario General #2\n",
    "    \n",
    "~~La idea es que el contenido que crees sea en celdas de Markdown normales y no en los recuadros azules de respuesta. Ten en cuenta lo anterior y podemos seguir con la revisión del proyecto.~~</div>\n",
    "\n",
    "\n",
    "<div class=\"alert alert-block alert-danger\">\n",
    "<b>Comentario del revisor</b> <a class=\"tocSkip\"></a>\n",
    "    \n",
    "# Comentario General #3\n",
    "\n",
    "~~Hola Christian. He dejado nuevos comentarios etiquetados con el #3 para que puedas tener en cuenta.~~ </div>\n",
    "\n",
    "\n",
    "\n",
    "<div class=\"alert alert-block alert-danger\">\n",
    "<b>Comentario del revisor</b> <a class=\"tocSkip\"></a>\n",
    "    \n",
    "# Comentario General #4\n",
    "\n",
    "~~Hola Christian. No sé si por error no se están guardando los cambios, sin embargo si me parece importante que por lo menos en la sección de la prueba de hipótesis se dedique un pequeño apartado para comparar las varianzas de los grupos.~~ </div>"
   ]
  },
  {
   "cell_type": "markdown",
   "metadata": {},
   "source": [
    "<div class=\"alert alert-block alert-success\">\n",
    "<b>Comentario del revisor #5</b> <a class=\"tocSkip\"></a>\n",
    "    \n",
    "# Comentario General #5\n",
    "    \n",
    "Buen trabajo Christian, te felicito por la culminación del proyecto.</div>\n",
    "    "
   ]
  }
 ],
 "metadata": {
  "ExecuteTimeLog": [
   {
    "duration": 828,
    "start_time": "2021-11-16T09:21:11.304Z"
   },
   {
    "duration": 893,
    "start_time": "2021-11-16T09:21:17.728Z"
   },
   {
    "duration": 1150,
    "start_time": "2021-11-16T09:21:29.568Z"
   },
   {
    "duration": 3,
    "start_time": "2021-11-16T09:24:14.495Z"
   },
   {
    "duration": 120,
    "start_time": "2021-11-16T09:24:46.630Z"
   },
   {
    "duration": 3,
    "start_time": "2021-11-16T09:28:27.882Z"
   },
   {
    "duration": 4,
    "start_time": "2021-11-16T09:29:54.281Z"
   },
   {
    "duration": 3,
    "start_time": "2021-11-16T09:30:45.936Z"
   },
   {
    "duration": 4,
    "start_time": "2021-11-16T09:31:06.300Z"
   },
   {
    "duration": 113,
    "start_time": "2021-11-16T09:31:37.208Z"
   },
   {
    "duration": 143,
    "start_time": "2021-11-16T09:31:48.656Z"
   },
   {
    "duration": 98,
    "start_time": "2021-11-16T09:31:55.678Z"
   },
   {
    "duration": 3,
    "start_time": "2021-11-16T09:32:08.535Z"
   },
   {
    "duration": 111,
    "start_time": "2021-11-16T09:32:10.120Z"
   },
   {
    "duration": 3,
    "start_time": "2021-11-16T09:32:15.732Z"
   },
   {
    "duration": 4,
    "start_time": "2021-11-16T09:32:29.423Z"
   },
   {
    "duration": 3,
    "start_time": "2021-11-16T10:03:03.074Z"
   },
   {
    "duration": 3,
    "start_time": "2021-11-16T10:10:01.288Z"
   },
   {
    "duration": 3,
    "start_time": "2021-11-16T10:10:46.923Z"
   },
   {
    "duration": 121,
    "start_time": "2021-11-16T10:37:46.494Z"
   },
   {
    "duration": 125,
    "start_time": "2021-11-16T10:38:20.632Z"
   },
   {
    "duration": 112,
    "start_time": "2021-11-16T10:46:53.001Z"
   },
   {
    "duration": 110,
    "start_time": "2021-11-16T10:48:25.775Z"
   },
   {
    "duration": 3,
    "start_time": "2021-11-16T10:50:18.720Z"
   },
   {
    "duration": 4,
    "start_time": "2021-11-16T10:50:37.649Z"
   },
   {
    "duration": 2,
    "start_time": "2021-11-16T10:50:51.884Z"
   },
   {
    "duration": 3,
    "start_time": "2021-11-16T10:51:56.237Z"
   },
   {
    "duration": 101,
    "start_time": "2021-11-16T10:53:13.791Z"
   },
   {
    "duration": 3,
    "start_time": "2021-11-16T10:55:59.186Z"
   },
   {
    "duration": 3,
    "start_time": "2021-11-16T10:56:10.751Z"
   },
   {
    "duration": 3,
    "start_time": "2021-11-16T10:56:49.038Z"
   },
   {
    "duration": 3,
    "start_time": "2021-11-16T10:56:49.174Z"
   },
   {
    "duration": 4,
    "start_time": "2021-11-16T10:56:49.414Z"
   },
   {
    "duration": 3,
    "start_time": "2021-11-16T10:56:49.680Z"
   },
   {
    "duration": 3,
    "start_time": "2021-11-16T10:56:50.370Z"
   },
   {
    "duration": 114,
    "start_time": "2021-11-16T10:59:34.518Z"
   },
   {
    "duration": 3,
    "start_time": "2021-11-16T11:01:41.201Z"
   },
   {
    "duration": 116,
    "start_time": "2021-11-16T11:01:48.754Z"
   },
   {
    "duration": 3,
    "start_time": "2021-11-16T11:02:16.685Z"
   },
   {
    "duration": 3,
    "start_time": "2021-11-16T11:02:19.479Z"
   },
   {
    "duration": 3,
    "start_time": "2021-11-16T11:02:47.067Z"
   },
   {
    "duration": 3,
    "start_time": "2021-11-16T11:02:49.353Z"
   },
   {
    "duration": 3,
    "start_time": "2021-11-16T11:03:07.835Z"
   },
   {
    "duration": 3,
    "start_time": "2021-11-16T11:03:07.953Z"
   },
   {
    "duration": 112,
    "start_time": "2021-11-16T11:07:52.072Z"
   },
   {
    "duration": 187,
    "start_time": "2021-11-16T11:09:23.468Z"
   },
   {
    "duration": 4,
    "start_time": "2021-11-16T11:10:01.455Z"
   },
   {
    "duration": 3,
    "start_time": "2021-11-16T11:10:05.069Z"
   },
   {
    "duration": 4,
    "start_time": "2021-11-16T11:10:13.376Z"
   },
   {
    "duration": 3,
    "start_time": "2021-11-16T11:10:14.434Z"
   },
   {
    "duration": 3,
    "start_time": "2021-11-16T11:10:22.853Z"
   },
   {
    "duration": 4,
    "start_time": "2021-11-16T11:27:29.279Z"
   },
   {
    "duration": 4,
    "start_time": "2021-11-16T11:29:08.919Z"
   },
   {
    "duration": 118,
    "start_time": "2021-11-16T11:29:46.703Z"
   },
   {
    "duration": 437,
    "start_time": "2021-11-16T11:36:02.181Z"
   },
   {
    "duration": 157,
    "start_time": "2021-11-16T11:36:14.388Z"
   },
   {
    "duration": 207,
    "start_time": "2021-11-16T11:47:15.898Z"
   },
   {
    "duration": 3,
    "start_time": "2021-11-16T11:53:52.092Z"
   },
   {
    "duration": 3,
    "start_time": "2021-11-16T11:53:52.236Z"
   },
   {
    "duration": 3,
    "start_time": "2021-11-16T11:59:12.005Z"
   },
   {
    "duration": 112,
    "start_time": "2021-11-16T12:00:33.446Z"
   },
   {
    "duration": 3,
    "start_time": "2021-11-16T12:02:14.453Z"
   },
   {
    "duration": 3,
    "start_time": "2021-11-16T12:02:39.512Z"
   },
   {
    "duration": 106,
    "start_time": "2021-11-16T12:03:03.460Z"
   },
   {
    "duration": 3,
    "start_time": "2021-11-17T20:37:21.139Z"
   },
   {
    "duration": 3,
    "start_time": "2021-11-17T20:37:22.229Z"
   },
   {
    "duration": 3,
    "start_time": "2021-11-17T20:38:38.806Z"
   },
   {
    "duration": 3,
    "start_time": "2021-11-17T20:38:41.958Z"
   },
   {
    "duration": 3,
    "start_time": "2021-11-17T20:43:46.551Z"
   },
   {
    "duration": 4,
    "start_time": "2021-11-17T20:58:21.835Z"
   },
   {
    "duration": 3,
    "start_time": "2021-11-17T20:59:21.872Z"
   },
   {
    "duration": 4,
    "start_time": "2021-11-17T20:59:45.352Z"
   },
   {
    "duration": 4,
    "start_time": "2021-11-17T20:59:49.646Z"
   },
   {
    "duration": 159,
    "start_time": "2021-11-17T21:02:26.949Z"
   },
   {
    "duration": 3,
    "start_time": "2021-11-17T21:03:53.461Z"
   },
   {
    "duration": 3,
    "start_time": "2021-11-17T21:03:53.694Z"
   },
   {
    "duration": 3,
    "start_time": "2021-11-17T21:05:28.145Z"
   },
   {
    "duration": 116,
    "start_time": "2021-11-17T21:05:57.787Z"
   },
   {
    "duration": 3,
    "start_time": "2021-11-17T21:06:37.993Z"
   },
   {
    "duration": 3,
    "start_time": "2021-11-17T21:06:38.261Z"
   },
   {
    "duration": 3,
    "start_time": "2021-11-17T21:11:54.358Z"
   },
   {
    "duration": 3,
    "start_time": "2021-11-17T21:12:43.846Z"
   },
   {
    "duration": 4,
    "start_time": "2021-11-17T21:13:08.773Z"
   },
   {
    "duration": 3,
    "start_time": "2021-11-17T21:14:44.441Z"
   },
   {
    "duration": 3,
    "start_time": "2021-11-17T21:15:42.059Z"
   },
   {
    "duration": 4,
    "start_time": "2021-11-17T21:15:51.995Z"
   },
   {
    "duration": 3,
    "start_time": "2021-11-17T21:15:53.923Z"
   },
   {
    "duration": 3,
    "start_time": "2021-11-17T21:15:55.282Z"
   },
   {
    "duration": 3,
    "start_time": "2021-11-17T21:16:28.492Z"
   },
   {
    "duration": 3,
    "start_time": "2021-11-17T21:16:32.603Z"
   },
   {
    "duration": 3,
    "start_time": "2021-11-17T21:17:06.941Z"
   },
   {
    "duration": 98,
    "start_time": "2021-11-17T21:18:05.733Z"
   },
   {
    "duration": 4,
    "start_time": "2021-11-17T21:21:35.255Z"
   },
   {
    "duration": 3,
    "start_time": "2021-11-17T21:21:37.804Z"
   },
   {
    "duration": 4,
    "start_time": "2021-11-17T21:23:06.071Z"
   },
   {
    "duration": 3,
    "start_time": "2021-11-17T21:23:24.799Z"
   },
   {
    "duration": 3,
    "start_time": "2021-11-17T21:23:32.591Z"
   },
   {
    "duration": 98,
    "start_time": "2021-11-17T21:28:31.559Z"
   },
   {
    "duration": 3,
    "start_time": "2021-11-17T21:28:45.448Z"
   },
   {
    "duration": 3,
    "start_time": "2021-11-17T21:29:17.303Z"
   },
   {
    "duration": 3,
    "start_time": "2021-11-17T21:29:29.617Z"
   },
   {
    "duration": 3,
    "start_time": "2021-11-17T21:29:32.681Z"
   },
   {
    "duration": 3,
    "start_time": "2021-11-17T21:36:11.474Z"
   },
   {
    "duration": 3,
    "start_time": "2021-11-17T21:36:14.791Z"
   },
   {
    "duration": 3,
    "start_time": "2021-11-17T21:36:53.943Z"
   },
   {
    "duration": 3,
    "start_time": "2021-11-17T21:36:56.165Z"
   },
   {
    "duration": 4,
    "start_time": "2021-11-17T21:37:16.590Z"
   },
   {
    "duration": 3,
    "start_time": "2021-11-17T21:37:22.702Z"
   },
   {
    "duration": 4,
    "start_time": "2021-11-17T21:38:03.479Z"
   },
   {
    "duration": 3,
    "start_time": "2021-11-17T21:38:08.601Z"
   },
   {
    "duration": 3,
    "start_time": "2021-11-17T21:38:12.928Z"
   },
   {
    "duration": 3,
    "start_time": "2021-11-17T21:38:48.896Z"
   },
   {
    "duration": 2,
    "start_time": "2021-11-17T21:38:49.171Z"
   },
   {
    "duration": 4,
    "start_time": "2021-11-17T21:39:57.889Z"
   },
   {
    "duration": 3,
    "start_time": "2021-11-17T21:39:58.057Z"
   },
   {
    "duration": 3,
    "start_time": "2021-11-17T21:41:20.108Z"
   },
   {
    "duration": 3,
    "start_time": "2021-11-17T21:41:20.629Z"
   },
   {
    "duration": 3,
    "start_time": "2021-11-17T21:42:49.136Z"
   },
   {
    "duration": 3,
    "start_time": "2021-11-17T21:43:15.137Z"
   },
   {
    "duration": 4,
    "start_time": "2021-11-17T21:43:16.766Z"
   },
   {
    "duration": 4,
    "start_time": "2021-11-17T21:43:31.711Z"
   },
   {
    "duration": 3,
    "start_time": "2021-11-17T21:43:36.312Z"
   },
   {
    "duration": 4,
    "start_time": "2021-11-17T21:45:08.825Z"
   },
   {
    "duration": 4,
    "start_time": "2021-11-17T21:45:10.119Z"
   },
   {
    "duration": 4,
    "start_time": "2021-11-17T21:45:13.748Z"
   },
   {
    "duration": 3,
    "start_time": "2021-11-17T21:45:22.219Z"
   },
   {
    "duration": 3,
    "start_time": "2021-11-17T21:45:33.412Z"
   },
   {
    "duration": 2,
    "start_time": "2021-11-17T21:46:01.885Z"
   },
   {
    "duration": 3,
    "start_time": "2021-11-17T21:46:03.628Z"
   },
   {
    "duration": 107,
    "start_time": "2021-11-17T21:47:32.512Z"
   },
   {
    "duration": 103,
    "start_time": "2021-11-17T21:50:36.243Z"
   },
   {
    "duration": 3,
    "start_time": "2021-11-18T06:28:31.440Z"
   },
   {
    "duration": 3,
    "start_time": "2021-11-18T06:29:00.168Z"
   },
   {
    "duration": 3,
    "start_time": "2021-11-18T06:31:27.008Z"
   },
   {
    "duration": 2,
    "start_time": "2021-11-18T06:35:34.288Z"
   },
   {
    "duration": 2,
    "start_time": "2021-11-18T06:38:04.527Z"
   }
  ],
  "colab": {
   "provenance": []
  },
  "kernelspec": {
   "display_name": "Python 3 (ipykernel)",
   "language": "python",
   "name": "python3"
  },
  "language_info": {
   "codemirror_mode": {
    "name": "ipython",
    "version": 3
   },
   "file_extension": ".py",
   "mimetype": "text/x-python",
   "name": "python",
   "nbconvert_exporter": "python",
   "pygments_lexer": "ipython3",
   "version": "3.9.5"
  },
  "toc": {
   "base_numbering": 1,
   "nav_menu": {},
   "number_sections": true,
   "sideBar": true,
   "skip_h1_title": false,
   "title_cell": "Table of Contents",
   "title_sidebar": "Contents",
   "toc_cell": false,
   "toc_position": {
    "height": "calc(100% - 180px)",
    "left": "10px",
    "top": "150px",
    "width": "275.531px"
   },
   "toc_section_display": true,
   "toc_window_display": true
  }
 },
 "nbformat": 4,
 "nbformat_minor": 1
}
